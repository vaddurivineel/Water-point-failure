{
 "cells": [
  {
   "cell_type": "markdown",
   "metadata": {},
   "source": [
    "###### Attribute Information:\n",
    "    ● Id - row id\n",
    "    ● Amount_of _water - Amount of water available in the waterpump\n",
    "    ● Gps_height - Altitude of the well\n",
    "    ● Waterpoint_type - The kind of waterpoint\n",
    "    ● Basin_name - Geographic water basin\n",
    "    ● Village - Geographic location\n",
    "    ● Regionname - Geographic location\n",
    "    ● Region_code- Geographic location (coded)\n",
    "    ● Wardname- Geographic location(renamed the original location)\n",
    "    ● District_code - Geographic location (coded)\n",
    "    ● Population – No of people around the well\n",
    "    ● Public_meeting – Is there any public meetings were conducted. (If Yes TRUE otherwise False)\n",
    "    ● Organization_funding - organization that provides money for that well construction\n",
    "    ● Organization_surveyed– organization which has done survey to collect the data.\n",
    "    ● Scheme_management - Organization operating the water point\n",
    "    ● Schemename – scheme name under which water point sanctioned.\n",
    "    ● Permit - Is the waterpoint has the permission to use\n",
    "    ● Company_installed - Organization that installed the pump\n",
    "    ● Management - How the waterpoint is managed\n",
    "    ● Management_group – Group which manages the water point.\n",
    "    ● Extraction_type – Way of extracting the water\n",
    "    ● Extraction_type_group - Way of extracting the water\n",
    "    ● Extraction_type_class – class of equipment used to extract the water\n",
    "    ● Payment - What the water costs type of payment\n",
    "    ● Payment_type - What the water costs type of payment\n",
    "    ● Water_quality - The quality of the water\n",
    "    ● Quality_group - The quality of the water\n",
    "    ● Quantity - The quantity of water\n",
    "    ● Quantity_group - The quantity of water\n",
    "    ● Source - The source of the water\n",
    "    ● Source_type - The source of the water\n",
    "    ● Source_class - The source of the water\n",
    "    ● Waterpoint_type_group - The kind of waterpoint.\n",
    "    ● Status- Target variable (1/0 - functional/non-functional)"
   ]
  },
  {
   "cell_type": "markdown",
   "metadata": {},
   "source": [
    "#### Importing Libraries"
   ]
  },
  {
   "cell_type": "code",
   "execution_count": 37,
   "metadata": {},
   "outputs": [],
   "source": [
    "# Further more libraries are imported as and when required\n",
    "\n",
    "import pandas as pd\n",
    "import numpy as np\n",
    "import matplotlib\n",
    "import matplotlib.pyplot as plt\n",
    "import seaborn as sns\n",
    "\n",
    "import warnings\n",
    "warnings.filterwarnings(\"ignore\")"
   ]
  },
  {
   "cell_type": "markdown",
   "metadata": {},
   "source": [
    "#### Directory Management"
   ]
  },
  {
   "cell_type": "code",
   "execution_count": 38,
   "metadata": {},
   "outputs": [
    {
     "data": {
      "text/plain": [
       "'C:\\\\Users\\\\Bunty\\\\Desktop\\\\20210717_MiTH_Dataset'"
      ]
     },
     "execution_count": 38,
     "metadata": {},
     "output_type": "execute_result"
    }
   ],
   "source": [
    "import os\n",
    "os.getcwd()    # Checking address of the current directory"
   ]
  },
  {
   "cell_type": "raw",
   "metadata": {},
   "source": [
    "# Changing the directory to iLab's backend directory"
   ]
  },
  {
   "cell_type": "raw",
   "metadata": {},
   "source": [
    "os.chdir(\"/home/datasets/lab\")"
   ]
  },
  {
   "cell_type": "markdown",
   "metadata": {},
   "source": [
    "### Reading the data"
   ]
  },
  {
   "cell_type": "code",
   "execution_count": 81,
   "metadata": {},
   "outputs": [],
   "source": [
    "# Data is stored into the variable 'train'\n",
    "\n",
    "\n",
    "train = pd.read_csv('C:\\\\Users\\\\Bunty\\\\Desktop\\\\20210717_MiTH_Dataset\\\\traindata_updated-1617172296397.csv')\n",
    "test = pd.read_csv('C:\\\\Users\\\\Bunty\\\\Desktop\\\\20210717_MiTH_Dataset\\\\testdataupdated-1617172320262.csv')"
   ]
  },
  {
   "cell_type": "markdown",
   "metadata": {},
   "source": [
    "### Exploratory Data Analysis & Feature Engineering"
   ]
  },
  {
   "cell_type": "code",
   "execution_count": 82,
   "metadata": {},
   "outputs": [
    {
     "data": {
      "text/plain": [
       "(44068, 34)"
      ]
     },
     "execution_count": 82,
     "metadata": {},
     "output_type": "execute_result"
    }
   ],
   "source": [
    "# Checking the shape of the train data\n",
    "\n",
    "train.shape"
   ]
  },
  {
   "cell_type": "code",
   "execution_count": 83,
   "metadata": {},
   "outputs": [
    {
     "data": {
      "text/plain": [
       "(11015, 33)"
      ]
     },
     "execution_count": 83,
     "metadata": {},
     "output_type": "execute_result"
    }
   ],
   "source": [
    "# Checking the shape of the test data\n",
    "\n",
    "test.shape"
   ]
  },
  {
   "cell_type": "code",
   "execution_count": 86,
   "metadata": {},
   "outputs": [
    {
     "data": {
      "text/plain": [
       "Id                       44068\n",
       "Amount_of_water             91\n",
       "Gps_height                2389\n",
       "Waterpoint_type              7\n",
       "Basin_name                   9\n",
       "Village                  16471\n",
       "Regionname                  21\n",
       "Region_code                 27\n",
       "Wardname                  2087\n",
       "District_code               20\n",
       "Population                 955\n",
       "Public_meeting               2\n",
       "Organization_funding      2380\n",
       "Organization_surveyed        1\n",
       "Scheme_management           12\n",
       "SchemeName                2505\n",
       "Permit                       2\n",
       "Company_installed         1873\n",
       "Management                  12\n",
       "Management_group             5\n",
       "Extraction_type             18\n",
       "Extraction_type_group       13\n",
       "Extraction_type_class        7\n",
       "Payment                      7\n",
       "Payment_type                 7\n",
       "Water_quality                8\n",
       "Quality_group                6\n",
       "Quantity                     5\n",
       "Quantity_group               5\n",
       "Source                      10\n",
       "Source_type                  7\n",
       "Source_class                 3\n",
       "Waterpoint_type_group        6\n",
       "Status                       2\n",
       "dtype: int64"
      ]
     },
     "execution_count": 86,
     "metadata": {},
     "output_type": "execute_result"
    }
   ],
   "source": [
    "# Checking the no.of unique values of the train data\n",
    "\n",
    "train.nunique()"
   ]
  },
  {
   "cell_type": "code",
   "execution_count": 87,
   "metadata": {},
   "outputs": [
    {
     "data": {
      "text/plain": [
       "Id                       11015\n",
       "Amount_of_water             67\n",
       "Gps_height                2031\n",
       "Waterpoint_type              6\n",
       "Basin_name                   9\n",
       "Village                   6726\n",
       "Regionname                  21\n",
       "Region_code                 26\n",
       "Wardname                  1879\n",
       "District_code               20\n",
       "Population                 536\n",
       "Public_meeting               2\n",
       "Organization_funding      1216\n",
       "Organization_surveyed        1\n",
       "Scheme_management           11\n",
       "SchemeName                1578\n",
       "Permit                       2\n",
       "Company_installed         1233\n",
       "Management                  12\n",
       "Management_group             5\n",
       "Extraction_type             18\n",
       "Extraction_type_group       13\n",
       "Extraction_type_class        7\n",
       "Payment                      7\n",
       "Payment_type                 7\n",
       "Water_quality                8\n",
       "Quality_group                6\n",
       "Quantity                     5\n",
       "Quantity_group               5\n",
       "Source                      10\n",
       "Source_type                  7\n",
       "Source_class                 3\n",
       "Waterpoint_type_group        5\n",
       "dtype: int64"
      ]
     },
     "execution_count": 87,
     "metadata": {},
     "output_type": "execute_result"
    }
   ],
   "source": [
    "# Checking the no.of unique values of the test data\n",
    "\n",
    "test.nunique()"
   ]
  },
  {
   "cell_type": "code",
   "execution_count": 88,
   "metadata": {},
   "outputs": [
    {
     "data": {
      "text/html": [
       "<div>\n",
       "<style scoped>\n",
       "    .dataframe tbody tr th:only-of-type {\n",
       "        vertical-align: middle;\n",
       "    }\n",
       "\n",
       "    .dataframe tbody tr th {\n",
       "        vertical-align: top;\n",
       "    }\n",
       "\n",
       "    .dataframe thead th {\n",
       "        text-align: right;\n",
       "    }\n",
       "</style>\n",
       "<table border=\"1\" class=\"dataframe\">\n",
       "  <thead>\n",
       "    <tr style=\"text-align: right;\">\n",
       "      <th></th>\n",
       "      <th>Id</th>\n",
       "      <th>Amount_of_water</th>\n",
       "      <th>Gps_height</th>\n",
       "      <th>Waterpoint_type</th>\n",
       "      <th>Basin_name</th>\n",
       "      <th>Village</th>\n",
       "      <th>Regionname</th>\n",
       "      <th>Region_code</th>\n",
       "      <th>Wardname</th>\n",
       "      <th>District_code</th>\n",
       "      <th>...</th>\n",
       "      <th>Payment_type</th>\n",
       "      <th>Water_quality</th>\n",
       "      <th>Quality_group</th>\n",
       "      <th>Quantity</th>\n",
       "      <th>Quantity_group</th>\n",
       "      <th>Source</th>\n",
       "      <th>Source_type</th>\n",
       "      <th>Source_class</th>\n",
       "      <th>Waterpoint_type_group</th>\n",
       "      <th>Status</th>\n",
       "    </tr>\n",
       "  </thead>\n",
       "  <tbody>\n",
       "    <tr>\n",
       "      <th>0</th>\n",
       "      <td>56421</td>\n",
       "      <td>0.0</td>\n",
       "      <td>1555</td>\n",
       "      <td>hand pump</td>\n",
       "      <td>basin3</td>\n",
       "      <td>village8556</td>\n",
       "      <td>region4</td>\n",
       "      <td>15</td>\n",
       "      <td>ward500</td>\n",
       "      <td>3</td>\n",
       "      <td>...</td>\n",
       "      <td>never pay</td>\n",
       "      <td>salty</td>\n",
       "      <td>salty</td>\n",
       "      <td>insufficient</td>\n",
       "      <td>insufficient</td>\n",
       "      <td>shallow well</td>\n",
       "      <td>shallow well</td>\n",
       "      <td>groundwater</td>\n",
       "      <td>hand pump</td>\n",
       "      <td>0</td>\n",
       "    </tr>\n",
       "    <tr>\n",
       "      <th>1</th>\n",
       "      <td>21324</td>\n",
       "      <td>500.0</td>\n",
       "      <td>857</td>\n",
       "      <td>communal standpipe multiple</td>\n",
       "      <td>basin7</td>\n",
       "      <td>village7372</td>\n",
       "      <td>region5</td>\n",
       "      <td>10</td>\n",
       "      <td>ward1800</td>\n",
       "      <td>5</td>\n",
       "      <td>...</td>\n",
       "      <td>monthly</td>\n",
       "      <td>soft</td>\n",
       "      <td>good</td>\n",
       "      <td>insufficient</td>\n",
       "      <td>insufficient</td>\n",
       "      <td>river</td>\n",
       "      <td>river/lake</td>\n",
       "      <td>surface</td>\n",
       "      <td>communal standpipe</td>\n",
       "      <td>0</td>\n",
       "    </tr>\n",
       "    <tr>\n",
       "      <th>2</th>\n",
       "      <td>74</td>\n",
       "      <td>0.0</td>\n",
       "      <td>0</td>\n",
       "      <td>communal standpipe</td>\n",
       "      <td>basin1</td>\n",
       "      <td>village9460</td>\n",
       "      <td>region6</td>\n",
       "      <td>17</td>\n",
       "      <td>ward883</td>\n",
       "      <td>3</td>\n",
       "      <td>...</td>\n",
       "      <td>never pay</td>\n",
       "      <td>soft</td>\n",
       "      <td>good</td>\n",
       "      <td>insufficient</td>\n",
       "      <td>insufficient</td>\n",
       "      <td>machine dbh</td>\n",
       "      <td>borehole</td>\n",
       "      <td>groundwater</td>\n",
       "      <td>communal standpipe</td>\n",
       "      <td>0</td>\n",
       "    </tr>\n",
       "    <tr>\n",
       "      <th>3</th>\n",
       "      <td>74038</td>\n",
       "      <td>0.0</td>\n",
       "      <td>0</td>\n",
       "      <td>other</td>\n",
       "      <td>basin5</td>\n",
       "      <td>village13878</td>\n",
       "      <td>region13</td>\n",
       "      <td>18</td>\n",
       "      <td>ward1505</td>\n",
       "      <td>7</td>\n",
       "      <td>...</td>\n",
       "      <td>never pay</td>\n",
       "      <td>soft</td>\n",
       "      <td>good</td>\n",
       "      <td>insufficient</td>\n",
       "      <td>insufficient</td>\n",
       "      <td>shallow well</td>\n",
       "      <td>shallow well</td>\n",
       "      <td>groundwater</td>\n",
       "      <td>other</td>\n",
       "      <td>0</td>\n",
       "    </tr>\n",
       "    <tr>\n",
       "      <th>4</th>\n",
       "      <td>29929</td>\n",
       "      <td>0.0</td>\n",
       "      <td>0</td>\n",
       "      <td>hand pump</td>\n",
       "      <td>basin4</td>\n",
       "      <td>village5192</td>\n",
       "      <td>region6</td>\n",
       "      <td>14</td>\n",
       "      <td>ward942</td>\n",
       "      <td>4</td>\n",
       "      <td>...</td>\n",
       "      <td>never pay</td>\n",
       "      <td>soft</td>\n",
       "      <td>good</td>\n",
       "      <td>enough</td>\n",
       "      <td>enough</td>\n",
       "      <td>machine dbh</td>\n",
       "      <td>borehole</td>\n",
       "      <td>groundwater</td>\n",
       "      <td>hand pump</td>\n",
       "      <td>1</td>\n",
       "    </tr>\n",
       "  </tbody>\n",
       "</table>\n",
       "<p>5 rows × 34 columns</p>\n",
       "</div>"
      ],
      "text/plain": [
       "      Id  Amount_of_water  Gps_height              Waterpoint_type Basin_name  \\\n",
       "0  56421              0.0        1555                    hand pump     basin3   \n",
       "1  21324            500.0         857  communal standpipe multiple     basin7   \n",
       "2     74              0.0           0           communal standpipe     basin1   \n",
       "3  74038              0.0           0                        other     basin5   \n",
       "4  29929              0.0           0                    hand pump     basin4   \n",
       "\n",
       "        Village Regionname  Region_code  Wardname  District_code  ...  \\\n",
       "0   village8556    region4           15   ward500              3  ...   \n",
       "1   village7372    region5           10  ward1800              5  ...   \n",
       "2   village9460    region6           17   ward883              3  ...   \n",
       "3  village13878   region13           18  ward1505              7  ...   \n",
       "4   village5192    region6           14   ward942              4  ...   \n",
       "\n",
       "   Payment_type Water_quality Quality_group      Quantity Quantity_group  \\\n",
       "0     never pay         salty         salty  insufficient   insufficient   \n",
       "1       monthly          soft          good  insufficient   insufficient   \n",
       "2     never pay          soft          good  insufficient   insufficient   \n",
       "3     never pay          soft          good  insufficient   insufficient   \n",
       "4     never pay          soft          good        enough         enough   \n",
       "\n",
       "         Source   Source_type Source_class Waterpoint_type_group Status  \n",
       "0  shallow well  shallow well  groundwater             hand pump      0  \n",
       "1         river    river/lake      surface    communal standpipe      0  \n",
       "2   machine dbh      borehole  groundwater    communal standpipe      0  \n",
       "3  shallow well  shallow well  groundwater                 other      0  \n",
       "4   machine dbh      borehole  groundwater             hand pump      1  \n",
       "\n",
       "[5 rows x 34 columns]"
      ]
     },
     "execution_count": 88,
     "metadata": {},
     "output_type": "execute_result"
    }
   ],
   "source": [
    "#  Checking top 5 rows of train data\n",
    "\n",
    "train.head()"
   ]
  },
  {
   "cell_type": "code",
   "execution_count": 89,
   "metadata": {},
   "outputs": [
    {
     "data": {
      "text/html": [
       "<div>\n",
       "<style scoped>\n",
       "    .dataframe tbody tr th:only-of-type {\n",
       "        vertical-align: middle;\n",
       "    }\n",
       "\n",
       "    .dataframe tbody tr th {\n",
       "        vertical-align: top;\n",
       "    }\n",
       "\n",
       "    .dataframe thead th {\n",
       "        text-align: right;\n",
       "    }\n",
       "</style>\n",
       "<table border=\"1\" class=\"dataframe\">\n",
       "  <thead>\n",
       "    <tr style=\"text-align: right;\">\n",
       "      <th></th>\n",
       "      <th>Id</th>\n",
       "      <th>Amount_of_water</th>\n",
       "      <th>Gps_height</th>\n",
       "      <th>Waterpoint_type</th>\n",
       "      <th>Basin_name</th>\n",
       "      <th>Village</th>\n",
       "      <th>Regionname</th>\n",
       "      <th>Region_code</th>\n",
       "      <th>Wardname</th>\n",
       "      <th>District_code</th>\n",
       "      <th>...</th>\n",
       "      <th>Payment</th>\n",
       "      <th>Payment_type</th>\n",
       "      <th>Water_quality</th>\n",
       "      <th>Quality_group</th>\n",
       "      <th>Quantity</th>\n",
       "      <th>Quantity_group</th>\n",
       "      <th>Source</th>\n",
       "      <th>Source_type</th>\n",
       "      <th>Source_class</th>\n",
       "      <th>Waterpoint_type_group</th>\n",
       "    </tr>\n",
       "  </thead>\n",
       "  <tbody>\n",
       "    <tr>\n",
       "      <th>0</th>\n",
       "      <td>31547</td>\n",
       "      <td>0.0</td>\n",
       "      <td>1018</td>\n",
       "      <td>hand pump</td>\n",
       "      <td>basin2</td>\n",
       "      <td>village4319</td>\n",
       "      <td>region5</td>\n",
       "      <td>10</td>\n",
       "      <td>ward1777</td>\n",
       "      <td>4</td>\n",
       "      <td>...</td>\n",
       "      <td>pay when scheme fails</td>\n",
       "      <td>on failure</td>\n",
       "      <td>soft</td>\n",
       "      <td>good</td>\n",
       "      <td>dry</td>\n",
       "      <td>dry</td>\n",
       "      <td>shallow well</td>\n",
       "      <td>shallow well</td>\n",
       "      <td>groundwater</td>\n",
       "      <td>hand pump</td>\n",
       "    </tr>\n",
       "    <tr>\n",
       "      <th>1</th>\n",
       "      <td>34980</td>\n",
       "      <td>0.0</td>\n",
       "      <td>356</td>\n",
       "      <td>hand pump</td>\n",
       "      <td>basin8</td>\n",
       "      <td>village2412</td>\n",
       "      <td>region5</td>\n",
       "      <td>10</td>\n",
       "      <td>ward493</td>\n",
       "      <td>1</td>\n",
       "      <td>...</td>\n",
       "      <td>never pay</td>\n",
       "      <td>never pay</td>\n",
       "      <td>soft</td>\n",
       "      <td>good</td>\n",
       "      <td>enough</td>\n",
       "      <td>enough</td>\n",
       "      <td>machine dbh</td>\n",
       "      <td>borehole</td>\n",
       "      <td>groundwater</td>\n",
       "      <td>hand pump</td>\n",
       "    </tr>\n",
       "    <tr>\n",
       "      <th>2</th>\n",
       "      <td>54744</td>\n",
       "      <td>500.0</td>\n",
       "      <td>265</td>\n",
       "      <td>hand pump</td>\n",
       "      <td>basin7</td>\n",
       "      <td>village19173</td>\n",
       "      <td>region2</td>\n",
       "      <td>5</td>\n",
       "      <td>ward1546</td>\n",
       "      <td>3</td>\n",
       "      <td>...</td>\n",
       "      <td>pay monthly</td>\n",
       "      <td>monthly</td>\n",
       "      <td>soft</td>\n",
       "      <td>good</td>\n",
       "      <td>insufficient</td>\n",
       "      <td>insufficient</td>\n",
       "      <td>shallow well</td>\n",
       "      <td>shallow well</td>\n",
       "      <td>groundwater</td>\n",
       "      <td>hand pump</td>\n",
       "    </tr>\n",
       "    <tr>\n",
       "      <th>3</th>\n",
       "      <td>20884</td>\n",
       "      <td>0.0</td>\n",
       "      <td>1203</td>\n",
       "      <td>communal standpipe multiple</td>\n",
       "      <td>basin5</td>\n",
       "      <td>village1692</td>\n",
       "      <td>region18</td>\n",
       "      <td>20</td>\n",
       "      <td>ward643</td>\n",
       "      <td>6</td>\n",
       "      <td>...</td>\n",
       "      <td>unknown</td>\n",
       "      <td>unknown</td>\n",
       "      <td>soft</td>\n",
       "      <td>good</td>\n",
       "      <td>enough</td>\n",
       "      <td>enough</td>\n",
       "      <td>lake</td>\n",
       "      <td>river/lake</td>\n",
       "      <td>surface</td>\n",
       "      <td>communal standpipe</td>\n",
       "    </tr>\n",
       "    <tr>\n",
       "      <th>4</th>\n",
       "      <td>42440</td>\n",
       "      <td>0.0</td>\n",
       "      <td>0</td>\n",
       "      <td>communal standpipe</td>\n",
       "      <td>basin2</td>\n",
       "      <td>village17574</td>\n",
       "      <td>region19</td>\n",
       "      <td>12</td>\n",
       "      <td>ward1356</td>\n",
       "      <td>3</td>\n",
       "      <td>...</td>\n",
       "      <td>pay monthly</td>\n",
       "      <td>monthly</td>\n",
       "      <td>soft</td>\n",
       "      <td>good</td>\n",
       "      <td>enough</td>\n",
       "      <td>enough</td>\n",
       "      <td>spring</td>\n",
       "      <td>spring</td>\n",
       "      <td>groundwater</td>\n",
       "      <td>communal standpipe</td>\n",
       "    </tr>\n",
       "  </tbody>\n",
       "</table>\n",
       "<p>5 rows × 33 columns</p>\n",
       "</div>"
      ],
      "text/plain": [
       "      Id  Amount_of_water  Gps_height              Waterpoint_type Basin_name  \\\n",
       "0  31547              0.0        1018                    hand pump     basin2   \n",
       "1  34980              0.0         356                    hand pump     basin8   \n",
       "2  54744            500.0         265                    hand pump     basin7   \n",
       "3  20884              0.0        1203  communal standpipe multiple     basin5   \n",
       "4  42440              0.0           0           communal standpipe     basin2   \n",
       "\n",
       "        Village Regionname  Region_code  Wardname  District_code  ...  \\\n",
       "0   village4319    region5           10  ward1777              4  ...   \n",
       "1   village2412    region5           10   ward493              1  ...   \n",
       "2  village19173    region2            5  ward1546              3  ...   \n",
       "3   village1692   region18           20   ward643              6  ...   \n",
       "4  village17574   region19           12  ward1356              3  ...   \n",
       "\n",
       "                 Payment Payment_type Water_quality Quality_group  \\\n",
       "0  pay when scheme fails   on failure          soft          good   \n",
       "1              never pay    never pay          soft          good   \n",
       "2            pay monthly      monthly          soft          good   \n",
       "3                unknown      unknown          soft          good   \n",
       "4            pay monthly      monthly          soft          good   \n",
       "\n",
       "       Quantity Quantity_group        Source   Source_type Source_class  \\\n",
       "0           dry            dry  shallow well  shallow well  groundwater   \n",
       "1        enough         enough   machine dbh      borehole  groundwater   \n",
       "2  insufficient   insufficient  shallow well  shallow well  groundwater   \n",
       "3        enough         enough          lake    river/lake      surface   \n",
       "4        enough         enough        spring        spring  groundwater   \n",
       "\n",
       "  Waterpoint_type_group  \n",
       "0             hand pump  \n",
       "1             hand pump  \n",
       "2             hand pump  \n",
       "3    communal standpipe  \n",
       "4    communal standpipe  \n",
       "\n",
       "[5 rows x 33 columns]"
      ]
     },
     "execution_count": 89,
     "metadata": {},
     "output_type": "execute_result"
    }
   ],
   "source": [
    "#  Checking top 5 rows of test data\n",
    "\n",
    "test.head()"
   ]
  },
  {
   "cell_type": "code",
   "execution_count": 90,
   "metadata": {
    "scrolled": true
   },
   "outputs": [
    {
     "data": {
      "text/plain": [
       "Id                           0\n",
       "Amount_of_water              0\n",
       "Gps_height                   0\n",
       "Waterpoint_type              0\n",
       "Basin_name                   0\n",
       "Village                      0\n",
       "Regionname                   0\n",
       "Region_code                  0\n",
       "Wardname                     0\n",
       "District_code                0\n",
       "Population                   0\n",
       "Public_meeting            2525\n",
       "Organization_funding      2600\n",
       "Organization_surveyed        0\n",
       "Scheme_management         2930\n",
       "SchemeName               20951\n",
       "Permit                    2227\n",
       "Company_installed         2603\n",
       "Management                   0\n",
       "Management_group             0\n",
       "Extraction_type              0\n",
       "Extraction_type_group        0\n",
       "Extraction_type_class        0\n",
       "Payment                      0\n",
       "Payment_type                 0\n",
       "Water_quality                0\n",
       "Quality_group                0\n",
       "Quantity                     0\n",
       "Quantity_group               0\n",
       "Source                       0\n",
       "Source_type                  0\n",
       "Source_class                 0\n",
       "Waterpoint_type_group        0\n",
       "Status                       0\n",
       "dtype: int64"
      ]
     },
     "execution_count": 90,
     "metadata": {},
     "output_type": "execute_result"
    }
   ],
   "source": [
    "# Checking for missing values in train data\n",
    "#However further null values are detected later and imputed accordingly\n",
    "\n",
    "train.isnull().sum()"
   ]
  },
  {
   "cell_type": "code",
   "execution_count": 91,
   "metadata": {},
   "outputs": [
    {
     "data": {
      "text/plain": [
       "Id                          0\n",
       "Amount_of_water             0\n",
       "Gps_height                  0\n",
       "Waterpoint_type             0\n",
       "Basin_name                  0\n",
       "Village                     0\n",
       "Regionname                  0\n",
       "Region_code                 0\n",
       "Wardname                    0\n",
       "District_code               0\n",
       "Population                  0\n",
       "Public_meeting            653\n",
       "Organization_funding        0\n",
       "Organization_surveyed       0\n",
       "Scheme_management         724\n",
       "SchemeName               5211\n",
       "Permit                    529\n",
       "Company_installed           0\n",
       "Management                  0\n",
       "Management_group            0\n",
       "Extraction_type             0\n",
       "Extraction_type_group       0\n",
       "Extraction_type_class       0\n",
       "Payment                     0\n",
       "Payment_type                0\n",
       "Water_quality               0\n",
       "Quality_group               0\n",
       "Quantity                    0\n",
       "Quantity_group              0\n",
       "Source                      0\n",
       "Source_type                 0\n",
       "Source_class                0\n",
       "Waterpoint_type_group       0\n",
       "dtype: int64"
      ]
     },
     "execution_count": 91,
     "metadata": {},
     "output_type": "execute_result"
    }
   ],
   "source": [
    "# Checking for missing values in test data\n",
    "#However further null values are detected later and imputed accordingly\n",
    "\n",
    "test.isnull().sum()"
   ]
  },
  {
   "cell_type": "code",
   "execution_count": 92,
   "metadata": {
    "scrolled": true
   },
   "outputs": [
    {
     "data": {
      "text/html": [
       "<div>\n",
       "<style scoped>\n",
       "    .dataframe tbody tr th:only-of-type {\n",
       "        vertical-align: middle;\n",
       "    }\n",
       "\n",
       "    .dataframe tbody tr th {\n",
       "        vertical-align: top;\n",
       "    }\n",
       "\n",
       "    .dataframe thead th {\n",
       "        text-align: right;\n",
       "    }\n",
       "</style>\n",
       "<table border=\"1\" class=\"dataframe\">\n",
       "  <thead>\n",
       "    <tr style=\"text-align: right;\">\n",
       "      <th></th>\n",
       "      <th>Id</th>\n",
       "      <th>Amount_of_water</th>\n",
       "      <th>Gps_height</th>\n",
       "      <th>Region_code</th>\n",
       "      <th>District_code</th>\n",
       "      <th>Population</th>\n",
       "      <th>Status</th>\n",
       "    </tr>\n",
       "  </thead>\n",
       "  <tbody>\n",
       "    <tr>\n",
       "      <th>count</th>\n",
       "      <td>44068.000000</td>\n",
       "      <td>44068.000000</td>\n",
       "      <td>44068.000000</td>\n",
       "      <td>44068.000000</td>\n",
       "      <td>44068.000000</td>\n",
       "      <td>44068.000000</td>\n",
       "      <td>44068.000000</td>\n",
       "    </tr>\n",
       "    <tr>\n",
       "      <th>mean</th>\n",
       "      <td>37092.516384</td>\n",
       "      <td>329.781607</td>\n",
       "      <td>674.305460</td>\n",
       "      <td>15.224539</td>\n",
       "      <td>5.664382</td>\n",
       "      <td>179.780181</td>\n",
       "      <td>0.585640</td>\n",
       "    </tr>\n",
       "    <tr>\n",
       "      <th>std</th>\n",
       "      <td>21490.884249</td>\n",
       "      <td>3127.604462</td>\n",
       "      <td>698.062813</td>\n",
       "      <td>17.566722</td>\n",
       "      <td>9.670612</td>\n",
       "      <td>473.609701</td>\n",
       "      <td>0.492617</td>\n",
       "    </tr>\n",
       "    <tr>\n",
       "      <th>min</th>\n",
       "      <td>0.000000</td>\n",
       "      <td>0.000000</td>\n",
       "      <td>-63.000000</td>\n",
       "      <td>1.000000</td>\n",
       "      <td>0.000000</td>\n",
       "      <td>0.000000</td>\n",
       "      <td>0.000000</td>\n",
       "    </tr>\n",
       "    <tr>\n",
       "      <th>25%</th>\n",
       "      <td>18363.250000</td>\n",
       "      <td>0.000000</td>\n",
       "      <td>0.000000</td>\n",
       "      <td>5.000000</td>\n",
       "      <td>2.000000</td>\n",
       "      <td>0.000000</td>\n",
       "      <td>0.000000</td>\n",
       "    </tr>\n",
       "    <tr>\n",
       "      <th>50%</th>\n",
       "      <td>37021.500000</td>\n",
       "      <td>0.000000</td>\n",
       "      <td>370.000000</td>\n",
       "      <td>12.000000</td>\n",
       "      <td>3.000000</td>\n",
       "      <td>25.000000</td>\n",
       "      <td>1.000000</td>\n",
       "    </tr>\n",
       "    <tr>\n",
       "      <th>75%</th>\n",
       "      <td>55685.250000</td>\n",
       "      <td>20.000000</td>\n",
       "      <td>1327.000000</td>\n",
       "      <td>17.000000</td>\n",
       "      <td>5.000000</td>\n",
       "      <td>211.000000</td>\n",
       "      <td>1.000000</td>\n",
       "    </tr>\n",
       "    <tr>\n",
       "      <th>max</th>\n",
       "      <td>74242.000000</td>\n",
       "      <td>350000.000000</td>\n",
       "      <td>2628.000000</td>\n",
       "      <td>99.000000</td>\n",
       "      <td>80.000000</td>\n",
       "      <td>30500.000000</td>\n",
       "      <td>1.000000</td>\n",
       "    </tr>\n",
       "  </tbody>\n",
       "</table>\n",
       "</div>"
      ],
      "text/plain": [
       "                 Id  Amount_of_water    Gps_height   Region_code  \\\n",
       "count  44068.000000     44068.000000  44068.000000  44068.000000   \n",
       "mean   37092.516384       329.781607    674.305460     15.224539   \n",
       "std    21490.884249      3127.604462    698.062813     17.566722   \n",
       "min        0.000000         0.000000    -63.000000      1.000000   \n",
       "25%    18363.250000         0.000000      0.000000      5.000000   \n",
       "50%    37021.500000         0.000000    370.000000     12.000000   \n",
       "75%    55685.250000        20.000000   1327.000000     17.000000   \n",
       "max    74242.000000    350000.000000   2628.000000     99.000000   \n",
       "\n",
       "       District_code    Population        Status  \n",
       "count   44068.000000  44068.000000  44068.000000  \n",
       "mean        5.664382    179.780181      0.585640  \n",
       "std         9.670612    473.609701      0.492617  \n",
       "min         0.000000      0.000000      0.000000  \n",
       "25%         2.000000      0.000000      0.000000  \n",
       "50%         3.000000     25.000000      1.000000  \n",
       "75%         5.000000    211.000000      1.000000  \n",
       "max        80.000000  30500.000000      1.000000  "
      ]
     },
     "execution_count": 92,
     "metadata": {},
     "output_type": "execute_result"
    }
   ],
   "source": [
    "# Outliers are detected in many features, but outliers are also found in test data. therefore ingoring outliers\n",
    "\n",
    "train.describe()"
   ]
  },
  {
   "cell_type": "code",
   "execution_count": 93,
   "metadata": {},
   "outputs": [
    {
     "data": {
      "text/html": [
       "<div>\n",
       "<style scoped>\n",
       "    .dataframe tbody tr th:only-of-type {\n",
       "        vertical-align: middle;\n",
       "    }\n",
       "\n",
       "    .dataframe tbody tr th {\n",
       "        vertical-align: top;\n",
       "    }\n",
       "\n",
       "    .dataframe thead th {\n",
       "        text-align: right;\n",
       "    }\n",
       "</style>\n",
       "<table border=\"1\" class=\"dataframe\">\n",
       "  <thead>\n",
       "    <tr style=\"text-align: right;\">\n",
       "      <th></th>\n",
       "      <th>Id</th>\n",
       "      <th>Amount_of_water</th>\n",
       "      <th>Gps_height</th>\n",
       "      <th>Region_code</th>\n",
       "      <th>District_code</th>\n",
       "      <th>Population</th>\n",
       "    </tr>\n",
       "  </thead>\n",
       "  <tbody>\n",
       "    <tr>\n",
       "      <th>count</th>\n",
       "      <td>11015.000000</td>\n",
       "      <td>11015.000000</td>\n",
       "      <td>11015.000000</td>\n",
       "      <td>11015.000000</td>\n",
       "      <td>11015.000000</td>\n",
       "      <td>11015.000000</td>\n",
       "    </tr>\n",
       "    <tr>\n",
       "      <th>mean</th>\n",
       "      <td>37191.448933</td>\n",
       "      <td>288.939537</td>\n",
       "      <td>660.207263</td>\n",
       "      <td>15.529460</td>\n",
       "      <td>5.832410</td>\n",
       "      <td>182.313572</td>\n",
       "    </tr>\n",
       "    <tr>\n",
       "      <th>std</th>\n",
       "      <td>21347.415727</td>\n",
       "      <td>2804.815011</td>\n",
       "      <td>689.647957</td>\n",
       "      <td>18.129926</td>\n",
       "      <td>10.026108</td>\n",
       "      <td>477.392955</td>\n",
       "    </tr>\n",
       "    <tr>\n",
       "      <th>min</th>\n",
       "      <td>2.000000</td>\n",
       "      <td>0.000000</td>\n",
       "      <td>-90.000000</td>\n",
       "      <td>1.000000</td>\n",
       "      <td>0.000000</td>\n",
       "      <td>0.000000</td>\n",
       "    </tr>\n",
       "    <tr>\n",
       "      <th>25%</th>\n",
       "      <td>19039.000000</td>\n",
       "      <td>0.000000</td>\n",
       "      <td>0.000000</td>\n",
       "      <td>5.000000</td>\n",
       "      <td>2.000000</td>\n",
       "      <td>0.000000</td>\n",
       "    </tr>\n",
       "    <tr>\n",
       "      <th>50%</th>\n",
       "      <td>37120.000000</td>\n",
       "      <td>0.000000</td>\n",
       "      <td>361.000000</td>\n",
       "      <td>12.000000</td>\n",
       "      <td>3.000000</td>\n",
       "      <td>25.000000</td>\n",
       "    </tr>\n",
       "    <tr>\n",
       "      <th>75%</th>\n",
       "      <td>55503.500000</td>\n",
       "      <td>20.000000</td>\n",
       "      <td>1317.000000</td>\n",
       "      <td>17.000000</td>\n",
       "      <td>5.000000</td>\n",
       "      <td>209.500000</td>\n",
       "    </tr>\n",
       "    <tr>\n",
       "      <th>max</th>\n",
       "      <td>74247.000000</td>\n",
       "      <td>200000.000000</td>\n",
       "      <td>2569.000000</td>\n",
       "      <td>99.000000</td>\n",
       "      <td>80.000000</td>\n",
       "      <td>11463.000000</td>\n",
       "    </tr>\n",
       "  </tbody>\n",
       "</table>\n",
       "</div>"
      ],
      "text/plain": [
       "                 Id  Amount_of_water    Gps_height   Region_code  \\\n",
       "count  11015.000000     11015.000000  11015.000000  11015.000000   \n",
       "mean   37191.448933       288.939537    660.207263     15.529460   \n",
       "std    21347.415727      2804.815011    689.647957     18.129926   \n",
       "min        2.000000         0.000000    -90.000000      1.000000   \n",
       "25%    19039.000000         0.000000      0.000000      5.000000   \n",
       "50%    37120.000000         0.000000    361.000000     12.000000   \n",
       "75%    55503.500000        20.000000   1317.000000     17.000000   \n",
       "max    74247.000000    200000.000000   2569.000000     99.000000   \n",
       "\n",
       "       District_code    Population  \n",
       "count   11015.000000  11015.000000  \n",
       "mean        5.832410    182.313572  \n",
       "std        10.026108    477.392955  \n",
       "min         0.000000      0.000000  \n",
       "25%         2.000000      0.000000  \n",
       "50%         3.000000     25.000000  \n",
       "75%         5.000000    209.500000  \n",
       "max        80.000000  11463.000000  "
      ]
     },
     "execution_count": 93,
     "metadata": {},
     "output_type": "execute_result"
    }
   ],
   "source": [
    "test.describe()"
   ]
  },
  {
   "cell_type": "code",
   "execution_count": 94,
   "metadata": {
    "scrolled": true
   },
   "outputs": [
    {
     "data": {
      "text/plain": [
       "Index(['Id', 'Amount_of_water', 'Gps_height', 'Waterpoint_type', 'Basin_name',\n",
       "       'Village', 'Regionname', 'Region_code', 'Wardname', 'District_code',\n",
       "       'Population', 'Public_meeting', 'Organization_funding',\n",
       "       'Organization_surveyed', 'Scheme_management', 'SchemeName', 'Permit',\n",
       "       'Company_installed', 'Management', 'Management_group',\n",
       "       'Extraction_type', 'Extraction_type_group', 'Extraction_type_class',\n",
       "       'Payment', 'Payment_type', 'Water_quality', 'Quality_group', 'Quantity',\n",
       "       'Quantity_group', 'Source', 'Source_type', 'Source_class',\n",
       "       'Waterpoint_type_group', 'Status'],\n",
       "      dtype='object')"
      ]
     },
     "execution_count": 94,
     "metadata": {},
     "output_type": "execute_result"
    }
   ],
   "source": [
    "# Checking for names of columns in the dataset\n",
    "\n",
    "train.columns"
   ]
  },
  {
   "cell_type": "code",
   "execution_count": null,
   "metadata": {},
   "outputs": [],
   "source": []
  },
  {
   "cell_type": "code",
   "execution_count": null,
   "metadata": {},
   "outputs": [],
   "source": [
    "# Checking for missing values in train data\n",
    "#However further null values are detected later and imputed accordingly\n",
    "\n",
    "train.isnull().sum()"
   ]
  },
  {
   "cell_type": "code",
   "execution_count": 40,
   "metadata": {
    "scrolled": true
   },
   "outputs": [
    {
     "data": {
      "image/png": "[encoded data removed]",
      "text/plain": [
       "<Figure size 576x576 with 2 Axes>"
      ]
     },
     "metadata": {
      "needs_background": "light"
     },
     "output_type": "display_data"
    }
   ],
   "source": [
    "# Waterpoint_type_group can be dropped -->\n",
    "# 'Waterpoint_type' gives identical information, hence dropping it\n",
    "\n",
    "plt.rcParams[\"figure.figsize\"] = [8, 8]\n",
    "plt.rcParams[\"figure.autolayout\"] = True\n",
    "fig,ax=plt.subplots(2,1)\n",
    "\n",
    "sns.countplot('Waterpoint_type',data=train,hue='Status',ax=ax[0])\n",
    "sns.countplot('Waterpoint_type_group',data=train,hue='Status',ax=ax[1])\n",
    "fig.show()"
   ]
  },
  {
   "cell_type": "code",
   "execution_count": 41,
   "metadata": {},
   "outputs": [
    {
     "data": {
      "image/png": "[encoded data removed]",
      "text/plain": [
       "<Figure size 288x288 with 1 Axes>"
      ]
     },
     "metadata": {
      "needs_background": "light"
     },
     "output_type": "display_data"
    }
   ],
   "source": [
    "# Organization_surveyed --> has only one value trhoughout --> hence can be dropped\n",
    "\n",
    "plt.rcParams[\"figure.figsize\"] = [4,4]\n",
    "sns.countplot('Organization_surveyed',data=train)\n",
    "fig.show()"
   ]
  },
  {
   "cell_type": "code",
   "execution_count": 42,
   "metadata": {},
   "outputs": [
    {
     "data": {
      "image/png": "[encoded data removed]",
      "text/plain": [
       "<Figure size 720x576 with 2 Axes>"
      ]
     },
     "metadata": {
      "needs_background": "light"
     },
     "output_type": "display_data"
    }
   ],
   "source": [
    "# Payment and Payment_type --> are giving almost identical information --> hence dropping Payment_type\n",
    "\n",
    "plt.rcParams[\"figure.figsize\"] = [10, 8]\n",
    "plt.rcParams[\"figure.autolayout\"] = True\n",
    "fig,ax=plt.subplots(2,1)\n",
    "\n",
    "sns.countplot('Payment',data=train,hue='Status',ax=ax[0])\n",
    "sns.countplot('Payment_type',data=train,hue='Status',ax=ax[1])\n",
    "fig.show()"
   ]
  },
  {
   "cell_type": "code",
   "execution_count": 43,
   "metadata": {},
   "outputs": [
    {
     "data": {
      "image/png": "[encoded data removed]",
      "text/plain": [
       "<Figure size 720x576 with 2 Axes>"
      ]
     },
     "metadata": {
      "needs_background": "light"
     },
     "output_type": "display_data"
    }
   ],
   "source": [
    "# Quality_group can be dropped because -->\n",
    "# 'Quality_group' and 'Water_quality' gives almost same information, but 'Water_quality' gives more details\n",
    "\n",
    "plt.rcParams[\"figure.figsize\"] = [10, 8]\n",
    "plt.rcParams[\"figure.autolayout\"] = True\n",
    "fig,ax=plt.subplots(2,1)\n",
    "\n",
    "sns.countplot('Water_quality',data=train,hue='Status',ax=ax[0])\n",
    "sns.countplot('Quality_group',data=train,hue='Status',ax=ax[1])\n",
    "fig.show()"
   ]
  },
  {
   "cell_type": "code",
   "execution_count": 44,
   "metadata": {},
   "outputs": [
    {
     "data": {
      "image/png": "[encoded data removed]",
      "text/plain": [
       "<Figure size 720x576 with 2 Axes>"
      ]
     },
     "metadata": {
      "needs_background": "light"
     },
     "output_type": "display_data"
    }
   ],
   "source": [
    "# Quantity_group can be dropped because -->\n",
    "# 'Quantity_group' and 'Quantity' gives identical information, so either one can be dropped\n",
    "\n",
    "plt.rcParams[\"figure.figsize\"] = [10, 8]\n",
    "plt.rcParams[\"figure.autolayout\"] = True\n",
    "fig,ax=plt.subplots(2,1)\n",
    "\n",
    "sns.countplot('Quantity',data=train,hue='Status',ax=ax[0])\n",
    "sns.countplot('Quantity_group',data=train,hue='Status',ax=ax[1])\n",
    "fig.show()"
   ]
  },
  {
   "cell_type": "code",
   "execution_count": 45,
   "metadata": {},
   "outputs": [
    {
     "data": {
      "image/png": "[encoded data removed]",
      "text/plain": [
       "<Figure size 720x576 with 3 Axes>"
      ]
     },
     "metadata": {
      "needs_background": "light"
     },
     "output_type": "display_data"
    }
   ],
   "source": [
    "# From the below graph and Excel sheet, it can be observed that -->\n",
    "# Source & Source_class can be dropped because -->\n",
    "# 'Source_type' also gives same information, but here all the null values are already classified as 'other'\n",
    "\n",
    "plt.rcParams[\"figure.figsize\"] = [10, 8]\n",
    "plt.rcParams[\"figure.autolayout\"] = True\n",
    "fig,ax=plt.subplots(3,1)\n",
    "\n",
    "sns.countplot('Source',data=train,hue='Status',ax=ax[0])\n",
    "sns.countplot('Source_type',data=train,hue='Status',ax=ax[1])\n",
    "sns.countplot('Source_class',data=train,hue='Status',ax=ax[2])\n",
    "fig.show()"
   ]
  },
  {
   "cell_type": "code",
   "execution_count": 96,
   "metadata": {},
   "outputs": [
    {
     "data": {
      "text/plain": [
       "<AxesSubplot:xlabel='Amount_of_water', ylabel='count'>"
      ]
     },
     "execution_count": 96,
     "metadata": {},
     "output_type": "execute_result"
    },
    {
     "data": {
      "image/png": "[encoded data removed]",
      "text/plain": [
       "<Figure size 1440x360 with 1 Axes>"
      ]
     },
     "metadata": {
      "needs_background": "light"
     },
     "output_type": "display_data"
    }
   ],
   "source": [
    "# From the below graph, it can be seen that majority of the values in Amount_of_water is '0'\n",
    "# But, for some rows with 0 --> pump is shown as working --> which is not possible.\n",
    "# Therefore, I have considered 0 as NaN and further imputed it with median, when grouped_by Region or Basin\n",
    "\n",
    "plt.rcParams[\"figure.figsize\"] = [20, 5]\n",
    "sns.countplot(test.Amount_of_water)"
   ]
  },
  {
   "cell_type": "code",
   "execution_count": 74,
   "metadata": {},
   "outputs": [
    {
     "data": {
      "text/plain": [
       "<AxesSubplot:xlabel='Gps_height', ylabel='Amount_of_water'>"
      ]
     },
     "execution_count": 74,
     "metadata": {},
     "output_type": "execute_result"
    },
    {
     "data": {
      "image/png": "[encoded data removed]",
      "text/plain": [
       "<Figure size 576x288 with 1 Axes>"
      ]
     },
     "metadata": {
      "needs_background": "light"
     },
     "output_type": "display_data"
    }
   ],
   "source": [
    "# Generally, Amount_of_water should decrease with increasing altitude -->\n",
    "# However, it is not so, in the dataset --> it is contradictory to the general idea\n",
    "\n",
    "plt.rcParams[\"figure.figsize\"] = [8, 4]\n",
    "sns.scatterplot('Gps_height',data=train, y='Amount_of_water')"
   ]
  },
  {
   "cell_type": "code",
   "execution_count": 55,
   "metadata": {},
   "outputs": [
    {
     "data": {
      "text/plain": [
       "array([ -63,  -59,  -57, ..., 2626, 2627, 2628], dtype=int64)"
      ]
     },
     "execution_count": 55,
     "metadata": {},
     "output_type": "execute_result"
    }
   ],
   "source": [
    "# The negative values in Gps_height could be because of the regions lying below sea level\n",
    "\n",
    "np.sort(train.Gps_height.unique())"
   ]
  },
  {
   "cell_type": "code",
   "execution_count": 97,
   "metadata": {},
   "outputs": [
    {
     "data": {
      "text/plain": [
       "<AxesSubplot:ylabel='null'>"
      ]
     },
     "execution_count": 97,
     "metadata": {},
     "output_type": "execute_result"
    },
    {
     "data": {
      "image/png": "[encoded data removed]",
      "text/plain": [
       "<Figure size 720x288 with 1 Axes>"
      ]
     },
     "metadata": {
      "needs_background": "light"
     },
     "output_type": "display_data"
    }
   ],
   "source": [
    "# SchemeName can be dropped because --> it has around 47.5% Null Values\n",
    "\n",
    "plt.rcParams[\"figure.figsize\"] = [10, 4]\n",
    "\n",
    "null=pd.DataFrame(train.isnull().sum().sort_values(ascending=False),columns=['null']).head(6)\n",
    "sns.barplot(x=null.index,y=null['null'])"
   ]
  },
  {
   "cell_type": "code",
   "execution_count": 57,
   "metadata": {},
   "outputs": [
    {
     "data": {
      "text/plain": [
       "Text(0.5, 0, 'totalCount')"
      ]
     },
     "execution_count": 57,
     "metadata": {},
     "output_type": "execute_result"
    },
    {
     "data": {
      "image/png": "[encoded data removed]",
      "text/plain": [
       "<Figure size 576x576 with 1 Axes>"
      ]
     },
     "metadata": {
      "needs_background": "light"
     },
     "output_type": "display_data"
    }
   ],
   "source": [
    "# Target distribution grouped on Basin_name can be observed from the below graph\n",
    "\n",
    "ax = sns.countplot(y='Basin_name', data=train,hue='Status')\n",
    "ax.set_xlabel('totalCount')"
   ]
  },
  {
   "cell_type": "markdown",
   "metadata": {},
   "source": [
    "### By observing in MS Excel and Above graphs --> following features can be dropped\n",
    "\n",
    "###### Id\n",
    "    - Since it has all unique values and does not have any bearing on Target Variable\n",
    "    \n",
    "###### Region_code\n",
    "    - Since it gives almost same information as 'Regionname'\n",
    "\n",
    "###### Organization_surveyed\n",
    "    - Since it has only a single value (Zero Variance)\n",
    "    \n",
    "###### Scheme_management\n",
    "    - Since it gives almost same information as 'Management'\n",
    "    \n",
    "###### SchemeName\n",
    "    - Since it has 47.5% Null Values\n",
    "    \n",
    "###### Management\n",
    "    - Since 'Management_group' provide same information, but 'Management_group' provides more succinctly.\n",
    "    \n",
    "###### Extraction_type & Extraction_type_group\n",
    "    - Extraction_type & Extraction_type_group are the sub-groups of 'Extraction_type_class'\n",
    "    - all three features provide same information, but 'Extraction_type_class' provides more succinctly.\n",
    "    \n",
    "###### Payment_type\n",
    "    - 'Payment' and 'Payment_type' gives identical information, so either one can be dropped\n",
    "    \n",
    "###### Quality_group\n",
    "    - 'Quality_group' and 'Water_quality' gives almost same information, but 'Water_quality' gives more details\n",
    "    \n",
    "###### Quantity_group\n",
    "    - 'Quantity_group' and 'Quantity' gives identical information, so either one can be dropped\n",
    "    \n",
    "###### Source & Source_class\n",
    "    - 'Source_type' also gives same information, but here all the null values are already classified as 'other'\n",
    "    \n",
    "###### Waterpoint_type_group\n",
    "    - 'Waterpoint_type' gives identical information, hence dropping it"
   ]
  },
  {
   "cell_type": "code",
   "execution_count": 100,
   "metadata": {},
   "outputs": [],
   "source": [
    "# The columns to be dropped are stored in 'drop_columns' as a list\n",
    "\n",
    "drop_columns = ['Id', 'Village', 'Region_code', 'Wardname',\n",
    "       'Organization_surveyed', 'Scheme_management', 'SchemeName','Management',\n",
    "       'Extraction_type', 'Extraction_type_group', 'Payment_type', 'Quality_group',\n",
    "       'Quantity_group', 'Source', 'Source_class', 'Waterpoint_type_group']"
   ]
  },
  {
   "cell_type": "code",
   "execution_count": 101,
   "metadata": {},
   "outputs": [],
   "source": [
    "# Mentioned columns are dropped from both train and test data\n",
    "\n",
    "train = train.drop(drop_columns, axis=1)\n",
    "test = test.drop(drop_columns, axis = 1)"
   ]
  },
  {
   "cell_type": "code",
   "execution_count": 102,
   "metadata": {},
   "outputs": [
    {
     "data": {
      "text/plain": [
       "(44068, 18)"
      ]
     },
     "execution_count": 102,
     "metadata": {},
     "output_type": "execute_result"
    }
   ],
   "source": [
    "train.shape"
   ]
  },
  {
   "cell_type": "code",
   "execution_count": 103,
   "metadata": {},
   "outputs": [
    {
     "data": {
      "text/plain": [
       "(11015, 17)"
      ]
     },
     "execution_count": 103,
     "metadata": {},
     "output_type": "execute_result"
    }
   ],
   "source": [
    "test.shape"
   ]
  },
  {
   "cell_type": "code",
   "execution_count": 104,
   "metadata": {
    "scrolled": true
   },
   "outputs": [
    {
     "data": {
      "text/plain": [
       "Amount_of_water          float64\n",
       "Gps_height                 int64\n",
       "Waterpoint_type           object\n",
       "Basin_name                object\n",
       "Regionname                object\n",
       "District_code              int64\n",
       "Population                 int64\n",
       "Public_meeting            object\n",
       "Organization_funding      object\n",
       "Permit                    object\n",
       "Company_installed         object\n",
       "Management_group          object\n",
       "Extraction_type_class     object\n",
       "Payment                   object\n",
       "Water_quality             object\n",
       "Quantity                  object\n",
       "Source_type               object\n",
       "Status                     int64\n",
       "dtype: object"
      ]
     },
     "execution_count": 104,
     "metadata": {},
     "output_type": "execute_result"
    }
   ],
   "source": [
    "# Data Types of features are observed below\n",
    "\n",
    "train.dtypes"
   ]
  },
  {
   "cell_type": "code",
   "execution_count": 105,
   "metadata": {},
   "outputs": [
    {
     "data": {
      "text/plain": [
       "['Waterpoint_type',\n",
       " 'Basin_name',\n",
       " 'Regionname',\n",
       " 'Public_meeting',\n",
       " 'Organization_funding',\n",
       " 'Permit',\n",
       " 'Company_installed',\n",
       " 'Management_group',\n",
       " 'Extraction_type_class',\n",
       " 'Payment',\n",
       " 'Water_quality',\n",
       " 'Quantity',\n",
       " 'Source_type']"
      ]
     },
     "execution_count": 105,
     "metadata": {},
     "output_type": "execute_result"
    }
   ],
   "source": [
    "# the column names of categorical variables are stored in 'cat_attr' as a list\n",
    "\n",
    "cat_attr  = train.select_dtypes(exclude='number').columns.tolist()\n",
    "cat_attr"
   ]
  },
  {
   "cell_type": "markdown",
   "metadata": {},
   "source": [
    "#### Some of the Hidden NA values are identified below"
   ]
  },
  {
   "cell_type": "code",
   "execution_count": 107,
   "metadata": {},
   "outputs": [],
   "source": [
    "# All the expected NA's in the Excel are stored in 'nan_list' - as a list\n",
    "\n",
    "nan_list = ['unknown','none','-', '0']"
   ]
  },
  {
   "cell_type": "code",
   "execution_count": 108,
   "metadata": {},
   "outputs": [],
   "source": [
    "# NAs are found in the train data\n",
    "\n",
    "train[cat_attr] = train[cat_attr].replace(nan_list, np.nan)"
   ]
  },
  {
   "cell_type": "code",
   "execution_count": 109,
   "metadata": {},
   "outputs": [],
   "source": [
    "# NAs are found in the test data\n",
    "\n",
    "test[cat_attr] = test[cat_attr].replace(nan_list, np.nan)"
   ]
  },
  {
   "cell_type": "code",
   "execution_count": 110,
   "metadata": {},
   "outputs": [
    {
     "data": {
      "text/plain": [
       "Amount_of_water             0\n",
       "Gps_height                  0\n",
       "Waterpoint_type             0\n",
       "Basin_name                  0\n",
       "Regionname                  0\n",
       "District_code               0\n",
       "Population                  0\n",
       "Public_meeting           2525\n",
       "Organization_funding     3224\n",
       "Permit                   2227\n",
       "Company_installed        3228\n",
       "Management_group          421\n",
       "Extraction_type_class       0\n",
       "Payment                  6124\n",
       "Water_quality            1445\n",
       "Quantity                  603\n",
       "Source_type                 0\n",
       "Status                      0\n",
       "dtype: int64"
      ]
     },
     "execution_count": 110,
     "metadata": {},
     "output_type": "execute_result"
    }
   ],
   "source": [
    "# Count of Null values are found newly are seen below\n",
    "\n",
    "train.isnull().sum()"
   ]
  },
  {
   "cell_type": "code",
   "execution_count": 23,
   "metadata": {},
   "outputs": [
    {
     "data": {
      "text/plain": [
       "Amount_of_water             0\n",
       "Gps_height                  0\n",
       "Waterpoint_type             0\n",
       "Basin_name                  0\n",
       "Regionname                  0\n",
       "District_code               0\n",
       "Population                  0\n",
       "Public_meeting            653\n",
       "Organization_funding        0\n",
       "Permit                    529\n",
       "Company_installed           0\n",
       "Management_group          113\n",
       "Extraction_type_class       0\n",
       "Payment                  1601\n",
       "Water_quality             396\n",
       "Quantity                  172\n",
       "Source_type                 0\n",
       "dtype: int64"
      ]
     },
     "execution_count": 23,
     "metadata": {},
     "output_type": "execute_result"
    }
   ],
   "source": [
    "test.isnull().sum()"
   ]
  },
  {
   "cell_type": "code",
   "execution_count": 111,
   "metadata": {},
   "outputs": [
    {
     "data": {
      "text/plain": [
       "<AxesSubplot:ylabel='null'>"
      ]
     },
     "execution_count": 111,
     "metadata": {},
     "output_type": "execute_result"
    },
    {
     "data": {
      "image/png": "[encoded data removed]",
      "text/plain": [
       "<Figure size 1008x288 with 1 Axes>"
      ]
     },
     "metadata": {
      "needs_background": "light"
     },
     "output_type": "display_data"
    }
   ],
   "source": [
    "# Highest Null values are present in Payment --> 6000\n",
    "#  All these NAs can be imputed with 'Other' as a new category --> beacuse Central Imputation doesn't make sense here\n",
    "\n",
    "plt.rcParams[\"figure.figsize\"] = [14, 4]\n",
    "\n",
    "null=pd.DataFrame(train.isnull().sum().sort_values(ascending=False),columns=['null']).head(8)\n",
    "sns.barplot(x=null.index,y=null['null'])"
   ]
  },
  {
   "cell_type": "markdown",
   "metadata": {},
   "source": [
    "### In 'Amount_of_water' and 'Population' Columns --> '0's cannot be present  --> therefore replacing them with NaN's\n",
    "    - Further imputing those Nan's with 'mean' after group_by with 'Regionname'"
   ]
  },
  {
   "cell_type": "code",
   "execution_count": 112,
   "metadata": {},
   "outputs": [],
   "source": [
    "# Replacing 0's in Amount_of_water and Population with NAs on train data\n",
    "\n",
    "train.Amount_of_water = train.Amount_of_water.replace(0, np.nan)\n",
    "train.Population = train.Population.replace(0, np.nan)"
   ]
  },
  {
   "cell_type": "code",
   "execution_count": 113,
   "metadata": {},
   "outputs": [],
   "source": [
    "# Replacing 0's in Amount_of_water and Population with NAs on test data\n",
    "\n",
    "test.Amount_of_water = test.Amount_of_water.replace(0, np.nan)\n",
    "test.Population = test.Population.replace(0, np.nan)"
   ]
  },
  {
   "cell_type": "code",
   "execution_count": 26,
   "metadata": {},
   "outputs": [
    {
     "data": {
      "text/plain": [
       "Amount_of_water          30790\n",
       "Gps_height                   0\n",
       "Waterpoint_type              0\n",
       "Basin_name                   0\n",
       "Regionname                   0\n",
       "District_code                0\n",
       "Population               15668\n",
       "Public_meeting            2525\n",
       "Organization_funding      3224\n",
       "Permit                    2227\n",
       "Company_installed         3228\n",
       "Management_group           421\n",
       "Extraction_type_class        0\n",
       "Payment                   6124\n",
       "Water_quality             1445\n",
       "Quantity                   603\n",
       "Source_type                  0\n",
       "Status                       0\n",
       "dtype: int64"
      ]
     },
     "execution_count": 26,
     "metadata": {},
     "output_type": "execute_result"
    }
   ],
   "source": [
    "train.isnull().sum()"
   ]
  },
  {
   "cell_type": "code",
   "execution_count": 27,
   "metadata": {},
   "outputs": [
    {
     "data": {
      "text/plain": [
       "Amount_of_water          7801\n",
       "Gps_height                  0\n",
       "Waterpoint_type             0\n",
       "Basin_name                  0\n",
       "Regionname                  0\n",
       "District_code               0\n",
       "Population               3938\n",
       "Public_meeting            653\n",
       "Organization_funding        0\n",
       "Permit                    529\n",
       "Company_installed           0\n",
       "Management_group          113\n",
       "Extraction_type_class       0\n",
       "Payment                  1601\n",
       "Water_quality             396\n",
       "Quantity                  172\n",
       "Source_type                 0\n",
       "dtype: int64"
      ]
     },
     "execution_count": 27,
     "metadata": {},
     "output_type": "execute_result"
    }
   ],
   "source": [
    "test.isnull().sum()"
   ]
  },
  {
   "cell_type": "code",
   "execution_count": 114,
   "metadata": {},
   "outputs": [],
   "source": [
    "# New NAs in Amount_of_water are imputed with median, after grouping_by with Regionname in train data\n",
    "\n",
    "Regionname_Amount_of_water = train.groupby('Regionname')['Amount_of_water'].transform('median')\n",
    "train.Amount_of_water = train.Amount_of_water.fillna(Regionname_Amount_of_water)"
   ]
  },
  {
   "cell_type": "code",
   "execution_count": 115,
   "metadata": {},
   "outputs": [],
   "source": [
    "# New NAs in Amount_of_water are imputed with same value as we did for train data\n",
    "\n",
    "test.Amount_of_water = test.Amount_of_water.fillna(Regionname_Amount_of_water)"
   ]
  },
  {
   "cell_type": "code",
   "execution_count": 116,
   "metadata": {},
   "outputs": [],
   "source": [
    "# New NAs in Regionname_Population are imputed with median, after grouping_by with Regionname in train data\n",
    "\n",
    "Regionname_Population = train.groupby('Regionname')['Population'].transform('median')\n",
    "train.Population = train.Population.fillna(Regionname_Population)"
   ]
  },
  {
   "cell_type": "code",
   "execution_count": 117,
   "metadata": {},
   "outputs": [],
   "source": [
    "# New NAs in Population are imputed with same value as we did for train data\n",
    "\n",
    "test.Population = test.Population.fillna(Regionname_Population)"
   ]
  },
  {
   "cell_type": "code",
   "execution_count": 118,
   "metadata": {
    "scrolled": true
   },
   "outputs": [
    {
     "data": {
      "text/plain": [
       "Amount_of_water          8854\n",
       "Gps_height                  0\n",
       "Waterpoint_type             0\n",
       "Basin_name                  0\n",
       "Regionname                  0\n",
       "District_code               0\n",
       "Population               8854\n",
       "Public_meeting           2525\n",
       "Organization_funding     3224\n",
       "Permit                   2227\n",
       "Company_installed        3228\n",
       "Management_group          421\n",
       "Extraction_type_class       0\n",
       "Payment                  6124\n",
       "Water_quality            1445\n",
       "Quantity                  603\n",
       "Source_type                 0\n",
       "Status                      0\n",
       "dtype: int64"
      ]
     },
     "execution_count": 118,
     "metadata": {},
     "output_type": "execute_result"
    }
   ],
   "source": [
    "train.isnull().sum()"
   ]
  },
  {
   "cell_type": "code",
   "execution_count": 119,
   "metadata": {},
   "outputs": [
    {
     "data": {
      "text/plain": [
       "Amount_of_water          1520\n",
       "Gps_height                  0\n",
       "Waterpoint_type             0\n",
       "Basin_name                  0\n",
       "Regionname                  0\n",
       "District_code               0\n",
       "Population                744\n",
       "Public_meeting            653\n",
       "Organization_funding        0\n",
       "Permit                    529\n",
       "Company_installed           0\n",
       "Management_group          113\n",
       "Extraction_type_class       0\n",
       "Payment                  1601\n",
       "Water_quality             396\n",
       "Quantity                  172\n",
       "Source_type                 0\n",
       "dtype: int64"
      ]
     },
     "execution_count": 119,
     "metadata": {},
     "output_type": "execute_result"
    }
   ],
   "source": [
    "test.isnull().sum()"
   ]
  },
  {
   "cell_type": "markdown",
   "metadata": {},
   "source": [
    "###### Some more NAs are leftover in Amount_of_water and Population"
   ]
  },
  {
   "cell_type": "code",
   "execution_count": 120,
   "metadata": {},
   "outputs": [],
   "source": [
    "# left over NAs in Amount_of_water are imputed with median, after grouping_by with Basin_name in train data\n",
    "\n",
    "Basin_name_Amount_of_water = train.groupby('Basin_name')['Amount_of_water'].transform('median')\n",
    "train.Amount_of_water = train.Amount_of_water.fillna(Basin_name_Amount_of_water)"
   ]
  },
  {
   "cell_type": "code",
   "execution_count": 121,
   "metadata": {},
   "outputs": [],
   "source": [
    "# left over NAs in Amount_of_water are imputed with same value as we did for train data\n",
    "\n",
    "test.Amount_of_water = test.Amount_of_water.fillna(Basin_name_Amount_of_water)"
   ]
  },
  {
   "cell_type": "code",
   "execution_count": 122,
   "metadata": {},
   "outputs": [],
   "source": [
    "# left over NAs in Population are imputed with median, after grouping_by with Basin_name in train data\n",
    "\n",
    "Basin_name_Population = train.groupby('Basin_name')['Population'].transform('median')\n",
    "train.Population = train.Population.fillna(Basin_name_Population)"
   ]
  },
  {
   "cell_type": "code",
   "execution_count": 123,
   "metadata": {},
   "outputs": [],
   "source": [
    "# left over NAs in Population are imputed with same value as we did for train data\n",
    "\n",
    "test.Population = test.Population.fillna(Basin_name_Population)"
   ]
  },
  {
   "cell_type": "code",
   "execution_count": 124,
   "metadata": {},
   "outputs": [
    {
     "data": {
      "text/plain": [
       "Amount_of_water             0\n",
       "Gps_height                  0\n",
       "Waterpoint_type             0\n",
       "Basin_name                  0\n",
       "Regionname                  0\n",
       "District_code               0\n",
       "Population                  0\n",
       "Public_meeting           2525\n",
       "Organization_funding     3224\n",
       "Permit                   2227\n",
       "Company_installed        3228\n",
       "Management_group          421\n",
       "Extraction_type_class       0\n",
       "Payment                  6124\n",
       "Water_quality            1445\n",
       "Quantity                  603\n",
       "Source_type                 0\n",
       "Status                      0\n",
       "dtype: int64"
      ]
     },
     "execution_count": 124,
     "metadata": {},
     "output_type": "execute_result"
    }
   ],
   "source": [
    "train.isnull().sum()"
   ]
  },
  {
   "cell_type": "code",
   "execution_count": 125,
   "metadata": {},
   "outputs": [
    {
     "data": {
      "text/plain": [
       "Amount_of_water             0\n",
       "Gps_height                  0\n",
       "Waterpoint_type             0\n",
       "Basin_name                  0\n",
       "Regionname                  0\n",
       "District_code               0\n",
       "Population                  0\n",
       "Public_meeting           2525\n",
       "Organization_funding     3224\n",
       "Permit                   2227\n",
       "Company_installed        3228\n",
       "Management_group          421\n",
       "Extraction_type_class       0\n",
       "Payment                  6124\n",
       "Water_quality            1445\n",
       "Quantity                  603\n",
       "Source_type                 0\n",
       "Status                      0\n",
       "dtype: int64"
      ]
     },
     "execution_count": 125,
     "metadata": {},
     "output_type": "execute_result"
    }
   ],
   "source": [
    "train.isnull().sum()"
   ]
  },
  {
   "cell_type": "markdown",
   "metadata": {},
   "source": [
    "#### NAs in Amount_of_water and Population are Handled\n",
    "     - Now we proceed to replace NAs with a new category 'Other' --> as Central Imputation is noty sensible"
   ]
  },
  {
   "cell_type": "code",
   "execution_count": 130,
   "metadata": {},
   "outputs": [],
   "source": [
    "Impute = ['Waterpoint_type',\n",
    " 'Basin_name',\n",
    " 'Regionname',\n",
    " 'Organization_funding',\n",
    " 'Company_installed',\n",
    " 'Management_group',\n",
    " 'Extraction_type_class',\n",
    " 'Payment',\n",
    " 'Water_quality',\n",
    " 'Quantity',\n",
    " 'Source_type']"
   ]
  },
  {
   "cell_type": "code",
   "execution_count": 131,
   "metadata": {},
   "outputs": [],
   "source": [
    "# Filling NAs with 'Other' in train data\n",
    "\n",
    "train[Impute] = train[Impute].fillna('other')"
   ]
  },
  {
   "cell_type": "code",
   "execution_count": 132,
   "metadata": {},
   "outputs": [],
   "source": [
    "# Filling NAs with 'Other' in test data\n",
    "\n",
    "test[Impute] = test[Impute].fillna('other')"
   ]
  },
  {
   "cell_type": "code",
   "execution_count": 133,
   "metadata": {
    "scrolled": true
   },
   "outputs": [
    {
     "data": {
      "text/plain": [
       "Amount_of_water             0\n",
       "Gps_height                  0\n",
       "Waterpoint_type             0\n",
       "Basin_name                  0\n",
       "Regionname                  0\n",
       "District_code               0\n",
       "Population                  0\n",
       "Public_meeting           2525\n",
       "Organization_funding        0\n",
       "Permit                   2227\n",
       "Company_installed           0\n",
       "Management_group            0\n",
       "Extraction_type_class       0\n",
       "Payment                     0\n",
       "Water_quality               0\n",
       "Quantity                    0\n",
       "Source_type                 0\n",
       "Status                      0\n",
       "dtype: int64"
      ]
     },
     "execution_count": 133,
     "metadata": {},
     "output_type": "execute_result"
    }
   ],
   "source": [
    "train.isnull().sum()"
   ]
  },
  {
   "cell_type": "markdown",
   "metadata": {},
   "source": [
    "#### Now NAs are present only in Public_meeting and Permit --> which have only 2 classes --> Yes and No\n",
    "    - These are imputed with mode"
   ]
  },
  {
   "cell_type": "code",
   "execution_count": 134,
   "metadata": {},
   "outputs": [],
   "source": [
    "# Mode imputation on Train data\n",
    "\n",
    "train = train.fillna(train.mode().iloc[0])"
   ]
  },
  {
   "cell_type": "code",
   "execution_count": 135,
   "metadata": {},
   "outputs": [],
   "source": [
    "# Mode Imputation on test data\n",
    "\n",
    "test = test.fillna(train.mode().iloc[0])"
   ]
  },
  {
   "cell_type": "markdown",
   "metadata": {},
   "source": [
    "#### ALL Missing values in train and test data are successfully handled"
   ]
  },
  {
   "cell_type": "code",
   "execution_count": 136,
   "metadata": {},
   "outputs": [
    {
     "data": {
      "text/plain": [
       "Amount_of_water          0\n",
       "Gps_height               0\n",
       "Waterpoint_type          0\n",
       "Basin_name               0\n",
       "Regionname               0\n",
       "District_code            0\n",
       "Population               0\n",
       "Public_meeting           0\n",
       "Organization_funding     0\n",
       "Permit                   0\n",
       "Company_installed        0\n",
       "Management_group         0\n",
       "Extraction_type_class    0\n",
       "Payment                  0\n",
       "Water_quality            0\n",
       "Quantity                 0\n",
       "Source_type              0\n",
       "Status                   0\n",
       "dtype: int64"
      ]
     },
     "execution_count": 136,
     "metadata": {},
     "output_type": "execute_result"
    }
   ],
   "source": [
    "train.isnull().sum()"
   ]
  },
  {
   "cell_type": "code",
   "execution_count": 137,
   "metadata": {},
   "outputs": [
    {
     "data": {
      "text/plain": [
       "Amount_of_water          0\n",
       "Gps_height               0\n",
       "Waterpoint_type          0\n",
       "Basin_name               0\n",
       "Regionname               0\n",
       "District_code            0\n",
       "Population               0\n",
       "Public_meeting           0\n",
       "Organization_funding     0\n",
       "Permit                   0\n",
       "Company_installed        0\n",
       "Management_group         0\n",
       "Extraction_type_class    0\n",
       "Payment                  0\n",
       "Water_quality            0\n",
       "Quantity                 0\n",
       "Source_type              0\n",
       "dtype: int64"
      ]
     },
     "execution_count": 137,
     "metadata": {},
     "output_type": "execute_result"
    }
   ],
   "source": [
    "test.isnull().sum()"
   ]
  },
  {
   "cell_type": "markdown",
   "metadata": {},
   "source": [
    "#### Type Casting categorical variables from 'Object' data type to 'Categorical'"
   ]
  },
  {
   "cell_type": "code",
   "execution_count": 139,
   "metadata": {},
   "outputs": [],
   "source": [
    "# Type Casting\n",
    "\n",
    "for i in cat_attr :\n",
    "    train[i] = train[i].astype(\"category\")"
   ]
  },
  {
   "cell_type": "code",
   "execution_count": 141,
   "metadata": {},
   "outputs": [],
   "source": [
    "# Type Casting\n",
    "\n",
    "for i in cat_attr :\n",
    "    test[i] = test[i].astype(\"category\")"
   ]
  },
  {
   "cell_type": "markdown",
   "metadata": {},
   "source": [
    "##### Data types are type casted"
   ]
  },
  {
   "cell_type": "code",
   "execution_count": 54,
   "metadata": {
    "scrolled": true
   },
   "outputs": [
    {
     "data": {
      "text/plain": [
       "Amount_of_water           float64\n",
       "Gps_height                  int64\n",
       "Waterpoint_type          category\n",
       "Basin_name               category\n",
       "Regionname               category\n",
       "District_code               int64\n",
       "Population                float64\n",
       "Public_meeting           category\n",
       "Organization_funding     category\n",
       "Permit                   category\n",
       "Company_installed        category\n",
       "Management_group         category\n",
       "Extraction_type_class    category\n",
       "Payment                  category\n",
       "Water_quality            category\n",
       "Quantity                 category\n",
       "Source_type              category\n",
       "Status                      int64\n",
       "dtype: object"
      ]
     },
     "execution_count": 54,
     "metadata": {},
     "output_type": "execute_result"
    }
   ],
   "source": [
    "train.dtypes"
   ]
  },
  {
   "cell_type": "code",
   "execution_count": 55,
   "metadata": {},
   "outputs": [
    {
     "data": {
      "text/plain": [
       "Amount_of_water           float64\n",
       "Gps_height                  int64\n",
       "Waterpoint_type          category\n",
       "Basin_name               category\n",
       "Regionname               category\n",
       "District_code               int64\n",
       "Population                float64\n",
       "Public_meeting           category\n",
       "Organization_funding     category\n",
       "Permit                   category\n",
       "Company_installed        category\n",
       "Management_group         category\n",
       "Extraction_type_class    category\n",
       "Payment                  category\n",
       "Water_quality            category\n",
       "Quantity                 category\n",
       "Source_type              category\n",
       "dtype: object"
      ]
     },
     "execution_count": 55,
     "metadata": {},
     "output_type": "execute_result"
    }
   ],
   "source": [
    "test.dtypes"
   ]
  },
  {
   "cell_type": "code",
   "execution_count": null,
   "metadata": {},
   "outputs": [],
   "source": []
  },
  {
   "cell_type": "markdown",
   "metadata": {},
   "source": [
    "### Divide data into train and validation"
   ]
  },
  {
   "cell_type": "code",
   "execution_count": 56,
   "metadata": {},
   "outputs": [],
   "source": [
    "X = train.drop('Status', axis=1)\n",
    "y=train['Status']"
   ]
  },
  {
   "cell_type": "code",
   "execution_count": 57,
   "metadata": {},
   "outputs": [],
   "source": [
    "from sklearn.model_selection import train_test_split\n",
    "X_train, X_test, y_train, y_test = train_test_split(X,y,test_size=0.3, random_state=0, stratify=y)"
   ]
  },
  {
   "cell_type": "code",
   "execution_count": 58,
   "metadata": {},
   "outputs": [
    {
     "name": "stdout",
     "output_type": "stream",
     "text": [
      "(30847, 17)\n",
      "(13221, 17)\n",
      "(30847,)\n",
      "(13221,)\n"
     ]
    }
   ],
   "source": [
    "print(X_train.shape)\n",
    "print(X_test.shape)\n",
    "print(y_train.shape)\n",
    "print(y_test.shape)"
   ]
  },
  {
   "cell_type": "code",
   "execution_count": 59,
   "metadata": {},
   "outputs": [
    {
     "data": {
      "text/html": [
       "<div>\n",
       "<style scoped>\n",
       "    .dataframe tbody tr th:only-of-type {\n",
       "        vertical-align: middle;\n",
       "    }\n",
       "\n",
       "    .dataframe tbody tr th {\n",
       "        vertical-align: top;\n",
       "    }\n",
       "\n",
       "    .dataframe thead th {\n",
       "        text-align: right;\n",
       "    }\n",
       "</style>\n",
       "<table border=\"1\" class=\"dataframe\">\n",
       "  <thead>\n",
       "    <tr style=\"text-align: right;\">\n",
       "      <th></th>\n",
       "      <th>Amount_of_water</th>\n",
       "      <th>Gps_height</th>\n",
       "      <th>Waterpoint_type</th>\n",
       "      <th>Basin_name</th>\n",
       "      <th>Regionname</th>\n",
       "      <th>District_code</th>\n",
       "      <th>Population</th>\n",
       "      <th>Public_meeting</th>\n",
       "      <th>Organization_funding</th>\n",
       "      <th>Permit</th>\n",
       "      <th>Company_installed</th>\n",
       "      <th>Management_group</th>\n",
       "      <th>Extraction_type_class</th>\n",
       "      <th>Payment</th>\n",
       "      <th>Water_quality</th>\n",
       "      <th>Quantity</th>\n",
       "      <th>Source_type</th>\n",
       "    </tr>\n",
       "  </thead>\n",
       "  <tbody>\n",
       "    <tr>\n",
       "      <th>40996</th>\n",
       "      <td>300.0</td>\n",
       "      <td>217</td>\n",
       "      <td>hand pump</td>\n",
       "      <td>basin7</td>\n",
       "      <td>region2</td>\n",
       "      <td>3</td>\n",
       "      <td>100.0</td>\n",
       "      <td>True</td>\n",
       "      <td>Org_480</td>\n",
       "      <td>True</td>\n",
       "      <td>Iorg417</td>\n",
       "      <td>user-group</td>\n",
       "      <td>handpump</td>\n",
       "      <td>never pay</td>\n",
       "      <td>soft</td>\n",
       "      <td>insufficient</td>\n",
       "      <td>shallow well</td>\n",
       "    </tr>\n",
       "    <tr>\n",
       "      <th>7636</th>\n",
       "      <td>500.0</td>\n",
       "      <td>0</td>\n",
       "      <td>other</td>\n",
       "      <td>basin5</td>\n",
       "      <td>region21</td>\n",
       "      <td>8</td>\n",
       "      <td>400.0</td>\n",
       "      <td>False</td>\n",
       "      <td>Org_1425</td>\n",
       "      <td>True</td>\n",
       "      <td>Iorg154</td>\n",
       "      <td>user-group</td>\n",
       "      <td>other</td>\n",
       "      <td>never pay</td>\n",
       "      <td>soft</td>\n",
       "      <td>enough</td>\n",
       "      <td>shallow well</td>\n",
       "    </tr>\n",
       "    <tr>\n",
       "      <th>1092</th>\n",
       "      <td>1000.0</td>\n",
       "      <td>1286</td>\n",
       "      <td>communal standpipe</td>\n",
       "      <td>basin7</td>\n",
       "      <td>region12</td>\n",
       "      <td>1</td>\n",
       "      <td>1.0</td>\n",
       "      <td>True</td>\n",
       "      <td>Iorg131</td>\n",
       "      <td>True</td>\n",
       "      <td>Iorg131</td>\n",
       "      <td>user-group</td>\n",
       "      <td>gravity</td>\n",
       "      <td>pay monthly</td>\n",
       "      <td>soft</td>\n",
       "      <td>enough</td>\n",
       "      <td>spring</td>\n",
       "    </tr>\n",
       "    <tr>\n",
       "      <th>19669</th>\n",
       "      <td>100.0</td>\n",
       "      <td>1504</td>\n",
       "      <td>hand pump</td>\n",
       "      <td>basin5</td>\n",
       "      <td>region18</td>\n",
       "      <td>2</td>\n",
       "      <td>600.0</td>\n",
       "      <td>True</td>\n",
       "      <td>Org_1460</td>\n",
       "      <td>True</td>\n",
       "      <td>Iorg1581</td>\n",
       "      <td>user-group</td>\n",
       "      <td>handpump</td>\n",
       "      <td>other</td>\n",
       "      <td>salty</td>\n",
       "      <td>enough</td>\n",
       "      <td>borehole</td>\n",
       "    </tr>\n",
       "    <tr>\n",
       "      <th>20323</th>\n",
       "      <td>750.0</td>\n",
       "      <td>0</td>\n",
       "      <td>hand pump</td>\n",
       "      <td>basin5</td>\n",
       "      <td>region6</td>\n",
       "      <td>1</td>\n",
       "      <td>300.0</td>\n",
       "      <td>True</td>\n",
       "      <td>Org_1755</td>\n",
       "      <td>False</td>\n",
       "      <td>Iorg1899</td>\n",
       "      <td>user-group</td>\n",
       "      <td>handpump</td>\n",
       "      <td>other</td>\n",
       "      <td>other</td>\n",
       "      <td>other</td>\n",
       "      <td>shallow well</td>\n",
       "    </tr>\n",
       "  </tbody>\n",
       "</table>\n",
       "</div>"
      ],
      "text/plain": [
       "       Amount_of_water  Gps_height     Waterpoint_type Basin_name Regionname  \\\n",
       "40996            300.0         217           hand pump     basin7    region2   \n",
       "7636             500.0           0               other     basin5   region21   \n",
       "1092            1000.0        1286  communal standpipe     basin7   region12   \n",
       "19669            100.0        1504           hand pump     basin5   region18   \n",
       "20323            750.0           0           hand pump     basin5    region6   \n",
       "\n",
       "       District_code  Population Public_meeting Organization_funding Permit  \\\n",
       "40996              3       100.0           True              Org_480   True   \n",
       "7636               8       400.0          False             Org_1425   True   \n",
       "1092               1         1.0           True              Iorg131   True   \n",
       "19669              2       600.0           True             Org_1460   True   \n",
       "20323              1       300.0           True             Org_1755  False   \n",
       "\n",
       "      Company_installed Management_group Extraction_type_class      Payment  \\\n",
       "40996           Iorg417       user-group              handpump    never pay   \n",
       "7636            Iorg154       user-group                 other    never pay   \n",
       "1092            Iorg131       user-group               gravity  pay monthly   \n",
       "19669          Iorg1581       user-group              handpump        other   \n",
       "20323          Iorg1899       user-group              handpump        other   \n",
       "\n",
       "      Water_quality      Quantity   Source_type  \n",
       "40996          soft  insufficient  shallow well  \n",
       "7636           soft        enough  shallow well  \n",
       "1092           soft        enough        spring  \n",
       "19669         salty        enough      borehole  \n",
       "20323         other         other  shallow well  "
      ]
     },
     "execution_count": 59,
     "metadata": {},
     "output_type": "execute_result"
    }
   ],
   "source": [
    "X_train.head()"
   ]
  },
  {
   "cell_type": "code",
   "execution_count": null,
   "metadata": {},
   "outputs": [],
   "source": []
  },
  {
   "cell_type": "markdown",
   "metadata": {},
   "source": [
    "### Handling Categorical variables\n",
    "    - Target Encoder is used"
   ]
  },
  {
   "cell_type": "markdown",
   "metadata": {},
   "source": [
    "#### Many of the features have lot of unique values\n",
    "    -Therefore doing OneHotENcoding(or Dummification) will result in lot of new columns with 0s and 1s which will increase model complexity\n",
    "    -\"TargetEncoder\" --> will group the rows by each value of a feature and replace it with mean of Target variable for each group"
   ]
  },
  {
   "cell_type": "markdown",
   "metadata": {},
   "source": [
    "### Target Encoding has a downside --> it will give information about the target variable priorly to categorical features --> Hence it may result in overfitting --> to overcome that, we use Ensemble learning techniques or Cross Validation techniques"
   ]
  },
  {
   "cell_type": "code",
   "execution_count": 60,
   "metadata": {},
   "outputs": [],
   "source": [
    "# pip install --upgrade category_encoders"
   ]
  },
  {
   "cell_type": "code",
   "execution_count": 61,
   "metadata": {},
   "outputs": [],
   "source": [
    "from category_encoders import TargetEncoder\n",
    "te = TargetEncoder()"
   ]
  },
  {
   "cell_type": "code",
   "execution_count": 62,
   "metadata": {},
   "outputs": [],
   "source": [
    "# Target Encoding on Train data\n",
    "\n",
    "X_train[cat_attr]=te.fit_transform(X_train[cat_attr], y_train.astype(\"int\"))\n",
    "X_test[cat_attr]=te.transform(X_test[cat_attr])"
   ]
  },
  {
   "cell_type": "code",
   "execution_count": 63,
   "metadata": {},
   "outputs": [],
   "source": [
    "# Target Encoding on Test data\n",
    "\n",
    "test[cat_attr] = te.transform(test[cat_attr])"
   ]
  },
  {
   "cell_type": "code",
   "execution_count": 64,
   "metadata": {},
   "outputs": [
    {
     "data": {
      "text/html": [
       "<div>\n",
       "<style scoped>\n",
       "    .dataframe tbody tr th:only-of-type {\n",
       "        vertical-align: middle;\n",
       "    }\n",
       "\n",
       "    .dataframe tbody tr th {\n",
       "        vertical-align: top;\n",
       "    }\n",
       "\n",
       "    .dataframe thead th {\n",
       "        text-align: right;\n",
       "    }\n",
       "</style>\n",
       "<table border=\"1\" class=\"dataframe\">\n",
       "  <thead>\n",
       "    <tr style=\"text-align: right;\">\n",
       "      <th></th>\n",
       "      <th>Amount_of_water</th>\n",
       "      <th>Gps_height</th>\n",
       "      <th>Waterpoint_type</th>\n",
       "      <th>Basin_name</th>\n",
       "      <th>Regionname</th>\n",
       "      <th>District_code</th>\n",
       "      <th>Population</th>\n",
       "      <th>Public_meeting</th>\n",
       "      <th>Organization_funding</th>\n",
       "      <th>Permit</th>\n",
       "      <th>Company_installed</th>\n",
       "      <th>Management_group</th>\n",
       "      <th>Extraction_type_class</th>\n",
       "      <th>Payment</th>\n",
       "      <th>Water_quality</th>\n",
       "      <th>Quantity</th>\n",
       "      <th>Source_type</th>\n",
       "    </tr>\n",
       "  </thead>\n",
       "  <tbody>\n",
       "    <tr>\n",
       "      <th>40996</th>\n",
       "      <td>300.0</td>\n",
       "      <td>217</td>\n",
       "      <td>0.651981</td>\n",
       "      <td>0.675619</td>\n",
       "      <td>0.581473</td>\n",
       "      <td>3</td>\n",
       "      <td>100.0</td>\n",
       "      <td>0.595846</td>\n",
       "      <td>0.666124</td>\n",
       "      <td>0.595696</td>\n",
       "      <td>0.749850</td>\n",
       "      <td>0.581336</td>\n",
       "      <td>0.668240</td>\n",
       "      <td>0.485003</td>\n",
       "      <td>0.611113</td>\n",
       "      <td>0.568132</td>\n",
       "      <td>0.522315</td>\n",
       "    </tr>\n",
       "    <tr>\n",
       "      <th>7636</th>\n",
       "      <td>500.0</td>\n",
       "      <td>0</td>\n",
       "      <td>0.134328</td>\n",
       "      <td>0.546760</td>\n",
       "      <td>0.510079</td>\n",
       "      <td>8</td>\n",
       "      <td>400.0</td>\n",
       "      <td>0.476046</td>\n",
       "      <td>0.166667</td>\n",
       "      <td>0.595696</td>\n",
       "      <td>0.285714</td>\n",
       "      <td>0.581336</td>\n",
       "      <td>0.167725</td>\n",
       "      <td>0.485003</td>\n",
       "      <td>0.611113</td>\n",
       "      <td>0.708202</td>\n",
       "      <td>0.522315</td>\n",
       "    </tr>\n",
       "    <tr>\n",
       "      <th>1092</th>\n",
       "      <td>1000.0</td>\n",
       "      <td>1286</td>\n",
       "      <td>0.674868</td>\n",
       "      <td>0.675619</td>\n",
       "      <td>0.798294</td>\n",
       "      <td>1</td>\n",
       "      <td>1.0</td>\n",
       "      <td>0.595846</td>\n",
       "      <td>1.000000</td>\n",
       "      <td>0.595696</td>\n",
       "      <td>0.791925</td>\n",
       "      <td>0.581336</td>\n",
       "      <td>0.663325</td>\n",
       "      <td>0.748446</td>\n",
       "      <td>0.611113</td>\n",
       "      <td>0.708202</td>\n",
       "      <td>0.669768</td>\n",
       "    </tr>\n",
       "    <tr>\n",
       "      <th>19669</th>\n",
       "      <td>100.0</td>\n",
       "      <td>1504</td>\n",
       "      <td>0.651981</td>\n",
       "      <td>0.546760</td>\n",
       "      <td>0.480930</td>\n",
       "      <td>2</td>\n",
       "      <td>600.0</td>\n",
       "      <td>0.595846</td>\n",
       "      <td>0.212414</td>\n",
       "      <td>0.595696</td>\n",
       "      <td>0.605166</td>\n",
       "      <td>0.581336</td>\n",
       "      <td>0.668240</td>\n",
       "      <td>0.477178</td>\n",
       "      <td>0.488210</td>\n",
       "      <td>0.708202</td>\n",
       "      <td>0.524600</td>\n",
       "    </tr>\n",
       "    <tr>\n",
       "      <th>20323</th>\n",
       "      <td>750.0</td>\n",
       "      <td>0</td>\n",
       "      <td>0.651981</td>\n",
       "      <td>0.546760</td>\n",
       "      <td>0.627660</td>\n",
       "      <td>1</td>\n",
       "      <td>300.0</td>\n",
       "      <td>0.595846</td>\n",
       "      <td>0.500001</td>\n",
       "      <td>0.561230</td>\n",
       "      <td>0.777778</td>\n",
       "      <td>0.581336</td>\n",
       "      <td>0.668240</td>\n",
       "      <td>0.477178</td>\n",
       "      <td>0.144737</td>\n",
       "      <td>0.288991</td>\n",
       "      <td>0.522315</td>\n",
       "    </tr>\n",
       "  </tbody>\n",
       "</table>\n",
       "</div>"
      ],
      "text/plain": [
       "       Amount_of_water  Gps_height  Waterpoint_type  Basin_name  Regionname  \\\n",
       "40996            300.0         217         0.651981    0.675619    0.581473   \n",
       "7636             500.0           0         0.134328    0.546760    0.510079   \n",
       "1092            1000.0        1286         0.674868    0.675619    0.798294   \n",
       "19669            100.0        1504         0.651981    0.546760    0.480930   \n",
       "20323            750.0           0         0.651981    0.546760    0.627660   \n",
       "\n",
       "       District_code  Population  Public_meeting  Organization_funding  \\\n",
       "40996              3       100.0        0.595846              0.666124   \n",
       "7636               8       400.0        0.476046              0.166667   \n",
       "1092               1         1.0        0.595846              1.000000   \n",
       "19669              2       600.0        0.595846              0.212414   \n",
       "20323              1       300.0        0.595846              0.500001   \n",
       "\n",
       "         Permit  Company_installed  Management_group  Extraction_type_class  \\\n",
       "40996  0.595696           0.749850          0.581336               0.668240   \n",
       "7636   0.595696           0.285714          0.581336               0.167725   \n",
       "1092   0.595696           0.791925          0.581336               0.663325   \n",
       "19669  0.595696           0.605166          0.581336               0.668240   \n",
       "20323  0.561230           0.777778          0.581336               0.668240   \n",
       "\n",
       "        Payment  Water_quality  Quantity  Source_type  \n",
       "40996  0.485003       0.611113  0.568132     0.522315  \n",
       "7636   0.485003       0.611113  0.708202     0.522315  \n",
       "1092   0.748446       0.611113  0.708202     0.669768  \n",
       "19669  0.477178       0.488210  0.708202     0.524600  \n",
       "20323  0.477178       0.144737  0.288991     0.522315  "
      ]
     },
     "execution_count": 64,
     "metadata": {},
     "output_type": "execute_result"
    }
   ],
   "source": [
    "X_train.head()"
   ]
  },
  {
   "cell_type": "code",
   "execution_count": 65,
   "metadata": {
    "scrolled": true
   },
   "outputs": [
    {
     "data": {
      "text/html": [
       "<div>\n",
       "<style scoped>\n",
       "    .dataframe tbody tr th:only-of-type {\n",
       "        vertical-align: middle;\n",
       "    }\n",
       "\n",
       "    .dataframe tbody tr th {\n",
       "        vertical-align: top;\n",
       "    }\n",
       "\n",
       "    .dataframe thead th {\n",
       "        text-align: right;\n",
       "    }\n",
       "</style>\n",
       "<table border=\"1\" class=\"dataframe\">\n",
       "  <thead>\n",
       "    <tr style=\"text-align: right;\">\n",
       "      <th></th>\n",
       "      <th>Amount_of_water</th>\n",
       "      <th>Gps_height</th>\n",
       "      <th>Waterpoint_type</th>\n",
       "      <th>Basin_name</th>\n",
       "      <th>Regionname</th>\n",
       "      <th>District_code</th>\n",
       "      <th>Population</th>\n",
       "      <th>Public_meeting</th>\n",
       "      <th>Organization_funding</th>\n",
       "      <th>Permit</th>\n",
       "      <th>Company_installed</th>\n",
       "      <th>Management_group</th>\n",
       "      <th>Extraction_type_class</th>\n",
       "      <th>Payment</th>\n",
       "      <th>Water_quality</th>\n",
       "      <th>Quantity</th>\n",
       "      <th>Source_type</th>\n",
       "    </tr>\n",
       "  </thead>\n",
       "  <tbody>\n",
       "    <tr>\n",
       "      <th>0</th>\n",
       "      <td>1000.0</td>\n",
       "      <td>1018</td>\n",
       "      <td>0.651981</td>\n",
       "      <td>0.684708</td>\n",
       "      <td>0.602528</td>\n",
       "      <td>4</td>\n",
       "      <td>200.0</td>\n",
       "      <td>0.595846</td>\n",
       "      <td>0.515152</td>\n",
       "      <td>0.595696</td>\n",
       "      <td>0.488095</td>\n",
       "      <td>0.581336</td>\n",
       "      <td>0.668240</td>\n",
       "      <td>0.661888</td>\n",
       "      <td>0.611113</td>\n",
       "      <td>0.024574</td>\n",
       "      <td>0.522315</td>\n",
       "    </tr>\n",
       "    <tr>\n",
       "      <th>1</th>\n",
       "      <td>600.0</td>\n",
       "      <td>356</td>\n",
       "      <td>0.651981</td>\n",
       "      <td>0.403738</td>\n",
       "      <td>0.602528</td>\n",
       "      <td>1</td>\n",
       "      <td>1.0</td>\n",
       "      <td>0.476046</td>\n",
       "      <td>0.282738</td>\n",
       "      <td>0.561230</td>\n",
       "      <td>0.547101</td>\n",
       "      <td>0.581336</td>\n",
       "      <td>0.668240</td>\n",
       "      <td>0.485003</td>\n",
       "      <td>0.611113</td>\n",
       "      <td>0.708202</td>\n",
       "      <td>0.524600</td>\n",
       "    </tr>\n",
       "    <tr>\n",
       "      <th>2</th>\n",
       "      <td>500.0</td>\n",
       "      <td>265</td>\n",
       "      <td>0.651981</td>\n",
       "      <td>0.675619</td>\n",
       "      <td>0.581473</td>\n",
       "      <td>3</td>\n",
       "      <td>600.0</td>\n",
       "      <td>0.595846</td>\n",
       "      <td>1.000000</td>\n",
       "      <td>0.595696</td>\n",
       "      <td>0.585632</td>\n",
       "      <td>0.581336</td>\n",
       "      <td>0.668240</td>\n",
       "      <td>0.748446</td>\n",
       "      <td>0.611113</td>\n",
       "      <td>0.568132</td>\n",
       "      <td>0.522315</td>\n",
       "    </tr>\n",
       "    <tr>\n",
       "      <th>3</th>\n",
       "      <td>500.0</td>\n",
       "      <td>1203</td>\n",
       "      <td>0.412620</td>\n",
       "      <td>0.546760</td>\n",
       "      <td>0.480930</td>\n",
       "      <td>6</td>\n",
       "      <td>200.0</td>\n",
       "      <td>0.595846</td>\n",
       "      <td>0.127193</td>\n",
       "      <td>0.561230</td>\n",
       "      <td>0.254902</td>\n",
       "      <td>0.581336</td>\n",
       "      <td>0.564374</td>\n",
       "      <td>0.477178</td>\n",
       "      <td>0.611113</td>\n",
       "      <td>0.708202</td>\n",
       "      <td>0.615672</td>\n",
       "    </tr>\n",
       "    <tr>\n",
       "      <th>4</th>\n",
       "      <td>750.0</td>\n",
       "      <td>0</td>\n",
       "      <td>0.674868</td>\n",
       "      <td>0.684708</td>\n",
       "      <td>0.559966</td>\n",
       "      <td>3</td>\n",
       "      <td>300.0</td>\n",
       "      <td>0.595846</td>\n",
       "      <td>1.000000</td>\n",
       "      <td>0.595696</td>\n",
       "      <td>0.585632</td>\n",
       "      <td>0.581336</td>\n",
       "      <td>0.663325</td>\n",
       "      <td>0.748446</td>\n",
       "      <td>0.611113</td>\n",
       "      <td>0.708202</td>\n",
       "      <td>0.669768</td>\n",
       "    </tr>\n",
       "  </tbody>\n",
       "</table>\n",
       "</div>"
      ],
      "text/plain": [
       "   Amount_of_water  Gps_height  Waterpoint_type  Basin_name  Regionname  \\\n",
       "0           1000.0        1018         0.651981    0.684708    0.602528   \n",
       "1            600.0         356         0.651981    0.403738    0.602528   \n",
       "2            500.0         265         0.651981    0.675619    0.581473   \n",
       "3            500.0        1203         0.412620    0.546760    0.480930   \n",
       "4            750.0           0         0.674868    0.684708    0.559966   \n",
       "\n",
       "   District_code  Population  Public_meeting  Organization_funding    Permit  \\\n",
       "0              4       200.0        0.595846              0.515152  0.595696   \n",
       "1              1         1.0        0.476046              0.282738  0.561230   \n",
       "2              3       600.0        0.595846              1.000000  0.595696   \n",
       "3              6       200.0        0.595846              0.127193  0.561230   \n",
       "4              3       300.0        0.595846              1.000000  0.595696   \n",
       "\n",
       "   Company_installed  Management_group  Extraction_type_class   Payment  \\\n",
       "0           0.488095          0.581336               0.668240  0.661888   \n",
       "1           0.547101          0.581336               0.668240  0.485003   \n",
       "2           0.585632          0.581336               0.668240  0.748446   \n",
       "3           0.254902          0.581336               0.564374  0.477178   \n",
       "4           0.585632          0.581336               0.663325  0.748446   \n",
       "\n",
       "   Water_quality  Quantity  Source_type  \n",
       "0       0.611113  0.024574     0.522315  \n",
       "1       0.611113  0.708202     0.524600  \n",
       "2       0.611113  0.568132     0.522315  \n",
       "3       0.611113  0.708202     0.615672  \n",
       "4       0.611113  0.708202     0.669768  "
      ]
     },
     "execution_count": 65,
     "metadata": {},
     "output_type": "execute_result"
    }
   ],
   "source": [
    "test.head()"
   ]
  },
  {
   "cell_type": "code",
   "execution_count": null,
   "metadata": {},
   "outputs": [],
   "source": []
  },
  {
   "cell_type": "code",
   "execution_count": null,
   "metadata": {},
   "outputs": [],
   "source": []
  },
  {
   "cell_type": "code",
   "execution_count": null,
   "metadata": {},
   "outputs": [],
   "source": []
  },
  {
   "cell_type": "markdown",
   "metadata": {},
   "source": [
    "# Model Building"
   ]
  },
  {
   "cell_type": "markdown",
   "metadata": {},
   "source": [
    "### 1. Decision Tree"
   ]
  },
  {
   "cell_type": "code",
   "execution_count": 66,
   "metadata": {},
   "outputs": [],
   "source": [
    "from sklearn.tree import DecisionTreeClassifier\n",
    "\n",
    "dt_model = DecisionTreeClassifier()"
   ]
  },
  {
   "cell_type": "code",
   "execution_count": 67,
   "metadata": {},
   "outputs": [
    {
     "data": {
      "text/plain": [
       "DecisionTreeClassifier()"
      ]
     },
     "execution_count": 67,
     "metadata": {},
     "output_type": "execute_result"
    }
   ],
   "source": [
    "# fit on train data\n",
    "dt_model.fit(X_train, y_train)"
   ]
  },
  {
   "cell_type": "code",
   "execution_count": 68,
   "metadata": {},
   "outputs": [],
   "source": [
    "y_train_pred = dt_model.predict(X_train)\n",
    "y_test_pred = dt_model.predict(X_test)"
   ]
  },
  {
   "cell_type": "code",
   "execution_count": 69,
   "metadata": {},
   "outputs": [],
   "source": [
    "from sklearn.metrics import accuracy_score, confusion_matrix"
   ]
  },
  {
   "cell_type": "code",
   "execution_count": 70,
   "metadata": {
    "scrolled": true
   },
   "outputs": [
    {
     "data": {
      "text/plain": [
       "array([[12521,   261],\n",
       "       [  333, 17732]], dtype=int64)"
      ]
     },
     "execution_count": 70,
     "metadata": {},
     "output_type": "execute_result"
    }
   ],
   "source": [
    "confusion_matrix(y_true=y_train, y_pred=y_train_pred)"
   ]
  },
  {
   "cell_type": "code",
   "execution_count": 71,
   "metadata": {},
   "outputs": [
    {
     "data": {
      "text/plain": [
       "array([[4694,  784],\n",
       "       [ 892, 6851]], dtype=int64)"
      ]
     },
     "execution_count": 71,
     "metadata": {},
     "output_type": "execute_result"
    }
   ],
   "source": [
    "confusion_matrix(y_true=y_test, y_pred=y_test_pred)"
   ]
  },
  {
   "cell_type": "code",
   "execution_count": 72,
   "metadata": {},
   "outputs": [
    {
     "data": {
      "text/plain": [
       "36"
      ]
     },
     "execution_count": 72,
     "metadata": {},
     "output_type": "execute_result"
    }
   ],
   "source": [
    "dt_model.get_depth()"
   ]
  },
  {
   "cell_type": "code",
   "execution_count": 73,
   "metadata": {},
   "outputs": [
    {
     "name": "stdout",
     "output_type": "stream",
     "text": [
      "0.9807436703731319\n",
      "0.8732319794266697\n"
     ]
    }
   ],
   "source": [
    "print(accuracy_score(y_true = y_train, y_pred = y_train_pred))\n",
    "print(accuracy_score(y_true = y_test, y_pred = y_test_pred))"
   ]
  },
  {
   "cell_type": "raw",
   "metadata": {},
   "source": [
    "submission = pd.read_csv('samplesubmission_updated-1617172344901.csv')\n",
    "final_predictions = dt_model.predict(test)\n",
    "submission['Status'] = final_predictions\n",
    "submission.to_csv('Vineel_Vadduri_B94_MiTH.csv', index=False)"
   ]
  },
  {
   "cell_type": "code",
   "execution_count": null,
   "metadata": {},
   "outputs": [],
   "source": []
  },
  {
   "cell_type": "code",
   "execution_count": null,
   "metadata": {},
   "outputs": [],
   "source": []
  },
  {
   "cell_type": "markdown",
   "metadata": {},
   "source": [
    "### 2. XGBoost Classifier"
   ]
  },
  {
   "cell_type": "code",
   "execution_count": 74,
   "metadata": {},
   "outputs": [],
   "source": [
    "from xgboost import XGBClassifier"
   ]
  },
  {
   "cell_type": "code",
   "execution_count": 75,
   "metadata": {},
   "outputs": [],
   "source": [
    "XGB_model = XGBClassifier(n_estimators=400, gamma=0.5,learning_rate=0.1,use_label_encoder=False)"
   ]
  },
  {
   "cell_type": "code",
   "execution_count": 76,
   "metadata": {},
   "outputs": [
    {
     "name": "stdout",
     "output_type": "stream",
     "text": [
      "[16:00:31] WARNING: C:/Users/Administrator/workspace/xgboost-win64_release_1.4.0/src/learner.cc:1095: Starting in XGBoost 1.3.0, the default evaluation metric used with the objective 'binary:logistic' was changed from 'error' to 'logloss'. Explicitly set eval_metric if you'd like to restore the old behavior.\n"
     ]
    },
    {
     "data": {
      "text/plain": [
       "XGBClassifier(base_score=0.5, booster='gbtree', colsample_bylevel=1,\n",
       "              colsample_bynode=1, colsample_bytree=1, gamma=0.5, gpu_id=-1,\n",
       "              importance_type='gain', interaction_constraints='',\n",
       "              learning_rate=0.1, max_delta_step=0, max_depth=6,\n",
       "              min_child_weight=1, missing=nan, monotone_constraints='()',\n",
       "              n_estimators=400, n_jobs=8, num_parallel_tree=1, random_state=0,\n",
       "              reg_alpha=0, reg_lambda=1, scale_pos_weight=1, subsample=1,\n",
       "              tree_method='exact', use_label_encoder=False,\n",
       "              validate_parameters=1, verbosity=None)"
      ]
     },
     "execution_count": 76,
     "metadata": {},
     "output_type": "execute_result"
    }
   ],
   "source": [
    "XGB_model.fit(X_train, y_train)"
   ]
  },
  {
   "cell_type": "code",
   "execution_count": 77,
   "metadata": {},
   "outputs": [],
   "source": [
    "y_pred_train = XGB_model.predict(X_train)\n",
    "y_pred_test = XGB_model.predict(X_test)"
   ]
  },
  {
   "cell_type": "code",
   "execution_count": 78,
   "metadata": {},
   "outputs": [
    {
     "name": "stdout",
     "output_type": "stream",
     "text": [
      "Train accuracy: 0.9301066554284048\n",
      "Test accuracy: 0.889267075107783\n"
     ]
    }
   ],
   "source": [
    "print(\"Train accuracy:\",accuracy_score(y_train,y_pred_train))\n",
    "print(\"Test accuracy:\",accuracy_score(y_test,y_pred_test))"
   ]
  },
  {
   "cell_type": "code",
   "execution_count": null,
   "metadata": {},
   "outputs": [],
   "source": []
  },
  {
   "cell_type": "markdown",
   "metadata": {},
   "source": [
    "#### RandomSearchCV"
   ]
  },
  {
   "cell_type": "code",
   "execution_count": 95,
   "metadata": {},
   "outputs": [],
   "source": [
    "from sklearn.model_selection import RandomizedSearchCV"
   ]
  },
  {
   "cell_type": "code",
   "execution_count": 96,
   "metadata": {},
   "outputs": [],
   "source": [
    "# Creating the model object\n",
    "dt_cv_model = XGBClassifier(class_weight=\"balanced\")"
   ]
  },
  {
   "cell_type": "code",
   "execution_count": 97,
   "metadata": {},
   "outputs": [],
   "source": [
    "param_grid = {\n",
    "     'colsample_bytree': np.linspace(0.2, 0.4, 2),\n",
    "     'n_estimators':[100,200],\n",
    "     'max_depth': [5, 20,25]\n",
    "}"
   ]
  },
  {
   "cell_type": "code",
   "execution_count": 98,
   "metadata": {},
   "outputs": [],
   "source": [
    "rs_object = RandomizedSearchCV(estimator = dt_cv_model, param_distributions = param_grid,\n",
    "                        verbose=45, n_jobs=-1, cv=5, n_iter=5)"
   ]
  },
  {
   "cell_type": "code",
   "execution_count": 99,
   "metadata": {
    "scrolled": true
   },
   "outputs": [
    {
     "name": "stdout",
     "output_type": "stream",
     "text": [
      "Fitting 5 folds for each of 5 candidates, totalling 25 fits\n",
      "[16:44:03] WARNING: C:/Users/Administrator/workspace/xgboost-win64_release_1.4.0/src/learner.cc:573: \n",
      "Parameters: { \"class_weight\" } might not be used.\n",
      "\n",
      "  This may not be accurate due to some parameters are only used in language bindings but\n",
      "  passed down to XGBoost core.  Or some parameters are not used but slip through this\n",
      "  verification. Please open an issue if you find above cases.\n",
      "\n",
      "\n",
      "[16:44:03] WARNING: C:/Users/Administrator/workspace/xgboost-win64_release_1.4.0/src/learner.cc:1095: Starting in XGBoost 1.3.0, the default evaluation metric used with the objective 'binary:logistic' was changed from 'error' to 'logloss'. Explicitly set eval_metric if you'd like to restore the old behavior.\n"
     ]
    },
    {
     "data": {
      "text/plain": [
       "RandomizedSearchCV(cv=5,\n",
       "                   estimator=XGBClassifier(base_score=None, booster=None,\n",
       "                                           class_weight='balanced',\n",
       "                                           colsample_bylevel=None,\n",
       "                                           colsample_bynode=None,\n",
       "                                           colsample_bytree=None, gamma=None,\n",
       "                                           gpu_id=None, importance_type='gain',\n",
       "                                           interaction_constraints=None,\n",
       "                                           learning_rate=None,\n",
       "                                           max_delta_step=None, max_depth=None,\n",
       "                                           min_child_weight=None, missing=nan,\n",
       "                                           monotone_constraints=None,\n",
       "                                           n_estimators=100, n_jobs=None,\n",
       "                                           num_parallel_tree=None,\n",
       "                                           random_state=None, reg_alpha=None,\n",
       "                                           reg_lambda=None,\n",
       "                                           scale_pos_weight=None,\n",
       "                                           subsample=None, tree_method=None,\n",
       "                                           validate_parameters=None,\n",
       "                                           verbosity=None),\n",
       "                   n_iter=5, n_jobs=-1,\n",
       "                   param_distributions={'colsample_bytree': array([0.2, 0.4]),\n",
       "                                        'max_depth': [5, 20, 25],\n",
       "                                        'n_estimators': [100, 200]},\n",
       "                   verbose=45)"
      ]
     },
     "execution_count": 99,
     "metadata": {},
     "output_type": "execute_result"
    }
   ],
   "source": [
    "rs_object.fit(X_train, y_train)"
   ]
  },
  {
   "cell_type": "code",
   "execution_count": 100,
   "metadata": {},
   "outputs": [
    {
     "data": {
      "text/html": [
       "<div>\n",
       "<style scoped>\n",
       "    .dataframe tbody tr th:only-of-type {\n",
       "        vertical-align: middle;\n",
       "    }\n",
       "\n",
       "    .dataframe tbody tr th {\n",
       "        vertical-align: top;\n",
       "    }\n",
       "\n",
       "    .dataframe thead th {\n",
       "        text-align: right;\n",
       "    }\n",
       "</style>\n",
       "<table border=\"1\" class=\"dataframe\">\n",
       "  <thead>\n",
       "    <tr style=\"text-align: right;\">\n",
       "      <th></th>\n",
       "      <th>mean_fit_time</th>\n",
       "      <th>std_fit_time</th>\n",
       "      <th>mean_score_time</th>\n",
       "      <th>std_score_time</th>\n",
       "      <th>param_n_estimators</th>\n",
       "      <th>param_max_depth</th>\n",
       "      <th>param_colsample_bytree</th>\n",
       "      <th>params</th>\n",
       "      <th>split0_test_score</th>\n",
       "      <th>split1_test_score</th>\n",
       "      <th>split2_test_score</th>\n",
       "      <th>split3_test_score</th>\n",
       "      <th>split4_test_score</th>\n",
       "      <th>mean_test_score</th>\n",
       "      <th>std_test_score</th>\n",
       "      <th>rank_test_score</th>\n",
       "    </tr>\n",
       "  </thead>\n",
       "  <tbody>\n",
       "    <tr>\n",
       "      <th>0</th>\n",
       "      <td>22.688154</td>\n",
       "      <td>0.413099</td>\n",
       "      <td>0.047725</td>\n",
       "      <td>0.010902</td>\n",
       "      <td>200</td>\n",
       "      <td>20</td>\n",
       "      <td>0.4</td>\n",
       "      <td>{'n_estimators': 200, 'max_depth': 20, 'colsam...</td>\n",
       "      <td>0.892869</td>\n",
       "      <td>0.899028</td>\n",
       "      <td>0.897066</td>\n",
       "      <td>0.898525</td>\n",
       "      <td>0.892689</td>\n",
       "      <td>0.896035</td>\n",
       "      <td>0.002736</td>\n",
       "      <td>1</td>\n",
       "    </tr>\n",
       "    <tr>\n",
       "      <th>1</th>\n",
       "      <td>3.692180</td>\n",
       "      <td>0.094402</td>\n",
       "      <td>0.018239</td>\n",
       "      <td>0.001532</td>\n",
       "      <td>200</td>\n",
       "      <td>5</td>\n",
       "      <td>0.2</td>\n",
       "      <td>{'n_estimators': 200, 'max_depth': 5, 'colsamp...</td>\n",
       "      <td>0.891572</td>\n",
       "      <td>0.894165</td>\n",
       "      <td>0.893824</td>\n",
       "      <td>0.893176</td>\n",
       "      <td>0.885233</td>\n",
       "      <td>0.891594</td>\n",
       "      <td>0.003303</td>\n",
       "      <td>4</td>\n",
       "    </tr>\n",
       "  </tbody>\n",
       "</table>\n",
       "</div>"
      ],
      "text/plain": [
       "   mean_fit_time  std_fit_time  mean_score_time  std_score_time  \\\n",
       "0      22.688154      0.413099         0.047725        0.010902   \n",
       "1       3.692180      0.094402         0.018239        0.001532   \n",
       "\n",
       "  param_n_estimators param_max_depth param_colsample_bytree  \\\n",
       "0                200              20                    0.4   \n",
       "1                200               5                    0.2   \n",
       "\n",
       "                                              params  split0_test_score  \\\n",
       "0  {'n_estimators': 200, 'max_depth': 20, 'colsam...           0.892869   \n",
       "1  {'n_estimators': 200, 'max_depth': 5, 'colsamp...           0.891572   \n",
       "\n",
       "   split1_test_score  split2_test_score  split3_test_score  split4_test_score  \\\n",
       "0           0.899028           0.897066           0.898525           0.892689   \n",
       "1           0.894165           0.893824           0.893176           0.885233   \n",
       "\n",
       "   mean_test_score  std_test_score  rank_test_score  \n",
       "0         0.896035        0.002736                1  \n",
       "1         0.891594        0.003303                4  "
      ]
     },
     "execution_count": 100,
     "metadata": {},
     "output_type": "execute_result"
    }
   ],
   "source": [
    "# 'cv_results_' will give details of all the instances of the models that are run and their statistics\n",
    "pd.DataFrame(rs_object.cv_results_).head(2)"
   ]
  },
  {
   "cell_type": "code",
   "execution_count": 101,
   "metadata": {},
   "outputs": [
    {
     "data": {
      "text/plain": [
       "{'n_estimators': 200, 'max_depth': 20, 'colsample_bytree': 0.4}"
      ]
     },
     "execution_count": 101,
     "metadata": {},
     "output_type": "execute_result"
    }
   ],
   "source": [
    "#Out of all the models that the RandomizedSearchCV has tried, it will save the best model parameters\n",
    "rs_object.best_params_"
   ]
  },
  {
   "cell_type": "code",
   "execution_count": 102,
   "metadata": {},
   "outputs": [
    {
     "data": {
      "text/plain": [
       "XGBClassifier(base_score=0.5, booster='gbtree', class_weight='balanced',\n",
       "              colsample_bylevel=1, colsample_bynode=1, colsample_bytree=0.4,\n",
       "              gamma=0, gpu_id=-1, importance_type='gain',\n",
       "              interaction_constraints='', learning_rate=0.300000012,\n",
       "              max_delta_step=0, max_depth=20, min_child_weight=1, missing=nan,\n",
       "              monotone_constraints='()', n_estimators=200, n_jobs=8,\n",
       "              num_parallel_tree=1, random_state=0, reg_alpha=0, reg_lambda=1,\n",
       "              scale_pos_weight=1, subsample=1, tree_method='exact',\n",
       "              validate_parameters=1, verbosity=None)"
      ]
     },
     "execution_count": 102,
     "metadata": {},
     "output_type": "execute_result"
    }
   ],
   "source": [
    "rs_object.best_estimator_"
   ]
  },
  {
   "cell_type": "code",
   "execution_count": 103,
   "metadata": {},
   "outputs": [],
   "source": [
    "y_train_pred = rs_object.predict(X_train)\n",
    "y_test_pred = rs_object.predict(X_test)"
   ]
  },
  {
   "cell_type": "code",
   "execution_count": 104,
   "metadata": {},
   "outputs": [
    {
     "data": {
      "text/plain": [
       "array([[12466,   316],\n",
       "       [  306, 17759]], dtype=int64)"
      ]
     },
     "execution_count": 104,
     "metadata": {},
     "output_type": "execute_result"
    }
   ],
   "source": [
    "confusion_matrix(y_true=y_train, y_pred=y_train_pred)"
   ]
  },
  {
   "cell_type": "code",
   "execution_count": 105,
   "metadata": {},
   "outputs": [
    {
     "data": {
      "text/plain": [
       "array([[4825,  653],\n",
       "       [ 773, 6970]], dtype=int64)"
      ]
     },
     "execution_count": 105,
     "metadata": {},
     "output_type": "execute_result"
    }
   ],
   "source": [
    "confusion_matrix(y_true=y_test, y_pred=y_test_pred)"
   ]
  },
  {
   "cell_type": "code",
   "execution_count": 107,
   "metadata": {},
   "outputs": [
    {
     "name": "stdout",
     "output_type": "stream",
     "text": [
      "0.9798359645994749\n",
      "0.8921412903713789\n"
     ]
    }
   ],
   "source": [
    "print(accuracy_score(y_true = y_train, y_pred = y_train_pred))\n",
    "print(accuracy_score(y_true = y_test, y_pred = y_test_pred))"
   ]
  },
  {
   "cell_type": "code",
   "execution_count": null,
   "metadata": {},
   "outputs": [],
   "source": []
  },
  {
   "cell_type": "code",
   "execution_count": null,
   "metadata": {},
   "outputs": [],
   "source": []
  },
  {
   "cell_type": "markdown",
   "metadata": {},
   "source": [
    "##### Grid-Search"
   ]
  },
  {
   "cell_type": "code",
   "execution_count": 79,
   "metadata": {},
   "outputs": [],
   "source": [
    "from sklearn.model_selection import GridSearchCV"
   ]
  },
  {
   "cell_type": "code",
   "execution_count": 109,
   "metadata": {},
   "outputs": [],
   "source": [
    "XGB = XGBClassifier(n_jobs=-1)\n",
    " \n",
    "# Use a grid over parameters of interest\n",
    "param_grid = {\n",
    "     'colsample_bytree': np.linspace(0.4, 2),\n",
    "     'n_estimators':[200],\n",
    "     'max_depth': [20,25]\n",
    "}\n",
    "\n",
    "CV_XGB = GridSearchCV(estimator=XGB, param_grid=param_grid, cv= 3)"
   ]
  },
  {
   "cell_type": "code",
   "execution_count": 110,
   "metadata": {
    "scrolled": true
   },
   "outputs": [
    {
     "name": "stdout",
     "output_type": "stream",
     "text": [
      "[16:47:32] WARNING: C:/Users/Administrator/workspace/xgboost-win64_release_1.4.0/src/learner.cc:1095: Starting in XGBoost 1.3.0, the default evaluation metric used with the objective 'binary:logistic' was changed from 'error' to 'logloss'. Explicitly set eval_metric if you'd like to restore the old behavior.\n",
      "[16:47:36] WARNING: C:/Users/Administrator/workspace/xgboost-win64_release_1.4.0/src/learner.cc:1095: Starting in XGBoost 1.3.0, the default evaluation metric used with the objective 'binary:logistic' was changed from 'error' to 'logloss'. Explicitly set eval_metric if you'd like to restore the old behavior.\n",
      "[16:47:40] WARNING: C:/Users/Administrator/workspace/xgboost-win64_release_1.4.0/src/learner.cc:1095: Starting in XGBoost 1.3.0, the default evaluation metric used with the objective 'binary:logistic' was changed from 'error' to 'logloss'. Explicitly set eval_metric if you'd like to restore the old behavior.\n",
      "[16:47:45] WARNING: C:/Users/Administrator/workspace/xgboost-win64_release_1.4.0/src/learner.cc:1095: Starting in XGBoost 1.3.0, the default evaluation metric used with the objective 'binary:logistic' was changed from 'error' to 'logloss'. Explicitly set eval_metric if you'd like to restore the old behavior.\n",
      "[16:47:50] WARNING: C:/Users/Administrator/workspace/xgboost-win64_release_1.4.0/src/learner.cc:1095: Starting in XGBoost 1.3.0, the default evaluation metric used with the objective 'binary:logistic' was changed from 'error' to 'logloss'. Explicitly set eval_metric if you'd like to restore the old behavior.\n",
      "[16:47:56] WARNING: C:/Users/Administrator/workspace/xgboost-win64_release_1.4.0/src/learner.cc:1095: Starting in XGBoost 1.3.0, the default evaluation metric used with the objective 'binary:logistic' was changed from 'error' to 'logloss'. Explicitly set eval_metric if you'd like to restore the old behavior.\n",
      "[16:48:01] WARNING: C:/Users/Administrator/workspace/xgboost-win64_release_1.4.0/src/learner.cc:1095: Starting in XGBoost 1.3.0, the default evaluation metric used with the objective 'binary:logistic' was changed from 'error' to 'logloss'. Explicitly set eval_metric if you'd like to restore the old behavior.\n",
      "[16:48:06] WARNING: C:/Users/Administrator/workspace/xgboost-win64_release_1.4.0/src/learner.cc:1095: Starting in XGBoost 1.3.0, the default evaluation metric used with the objective 'binary:logistic' was changed from 'error' to 'logloss'. Explicitly set eval_metric if you'd like to restore the old behavior.\n",
      "[16:48:11] WARNING: C:/Users/Administrator/workspace/xgboost-win64_release_1.4.0/src/learner.cc:1095: Starting in XGBoost 1.3.0, the default evaluation metric used with the objective 'binary:logistic' was changed from 'error' to 'logloss'. Explicitly set eval_metric if you'd like to restore the old behavior.\n",
      "[16:48:16] WARNING: C:/Users/Administrator/workspace/xgboost-win64_release_1.4.0/src/learner.cc:1095: Starting in XGBoost 1.3.0, the default evaluation metric used with the objective 'binary:logistic' was changed from 'error' to 'logloss'. Explicitly set eval_metric if you'd like to restore the old behavior.\n",
      "[16:48:21] WARNING: C:/Users/Administrator/workspace/xgboost-win64_release_1.4.0/src/learner.cc:1095: Starting in XGBoost 1.3.0, the default evaluation metric used with the objective 'binary:logistic' was changed from 'error' to 'logloss'. Explicitly set eval_metric if you'd like to restore the old behavior.\n",
      "[16:48:27] WARNING: C:/Users/Administrator/workspace/xgboost-win64_release_1.4.0/src/learner.cc:1095: Starting in XGBoost 1.3.0, the default evaluation metric used with the objective 'binary:logistic' was changed from 'error' to 'logloss'. Explicitly set eval_metric if you'd like to restore the old behavior.\n",
      "[16:48:32] WARNING: C:/Users/Administrator/workspace/xgboost-win64_release_1.4.0/src/learner.cc:1095: Starting in XGBoost 1.3.0, the default evaluation metric used with the objective 'binary:logistic' was changed from 'error' to 'logloss'. Explicitly set eval_metric if you'd like to restore the old behavior.\n",
      "[16:48:37] WARNING: C:/Users/Administrator/workspace/xgboost-win64_release_1.4.0/src/learner.cc:1095: Starting in XGBoost 1.3.0, the default evaluation metric used with the objective 'binary:logistic' was changed from 'error' to 'logloss'. Explicitly set eval_metric if you'd like to restore the old behavior.\n",
      "[16:48:43] WARNING: C:/Users/Administrator/workspace/xgboost-win64_release_1.4.0/src/learner.cc:1095: Starting in XGBoost 1.3.0, the default evaluation metric used with the objective 'binary:logistic' was changed from 'error' to 'logloss'. Explicitly set eval_metric if you'd like to restore the old behavior.\n",
      "[16:48:48] WARNING: C:/Users/Administrator/workspace/xgboost-win64_release_1.4.0/src/learner.cc:1095: Starting in XGBoost 1.3.0, the default evaluation metric used with the objective 'binary:logistic' was changed from 'error' to 'logloss'. Explicitly set eval_metric if you'd like to restore the old behavior.\n",
      "[16:48:54] WARNING: C:/Users/Administrator/workspace/xgboost-win64_release_1.4.0/src/learner.cc:1095: Starting in XGBoost 1.3.0, the default evaluation metric used with the objective 'binary:logistic' was changed from 'error' to 'logloss'. Explicitly set eval_metric if you'd like to restore the old behavior.\n",
      "[16:49:00] WARNING: C:/Users/Administrator/workspace/xgboost-win64_release_1.4.0/src/learner.cc:1095: Starting in XGBoost 1.3.0, the default evaluation metric used with the objective 'binary:logistic' was changed from 'error' to 'logloss'. Explicitly set eval_metric if you'd like to restore the old behavior.\n",
      "[16:49:05] WARNING: C:/Users/Administrator/workspace/xgboost-win64_release_1.4.0/src/learner.cc:1095: Starting in XGBoost 1.3.0, the default evaluation metric used with the objective 'binary:logistic' was changed from 'error' to 'logloss'. Explicitly set eval_metric if you'd like to restore the old behavior.\n",
      "[16:49:11] WARNING: C:/Users/Administrator/workspace/xgboost-win64_release_1.4.0/src/learner.cc:1095: Starting in XGBoost 1.3.0, the default evaluation metric used with the objective 'binary:logistic' was changed from 'error' to 'logloss'. Explicitly set eval_metric if you'd like to restore the old behavior.\n",
      "[16:49:17] WARNING: C:/Users/Administrator/workspace/xgboost-win64_release_1.4.0/src/learner.cc:1095: Starting in XGBoost 1.3.0, the default evaluation metric used with the objective 'binary:logistic' was changed from 'error' to 'logloss'. Explicitly set eval_metric if you'd like to restore the old behavior.\n",
      "[16:49:22] WARNING: C:/Users/Administrator/workspace/xgboost-win64_release_1.4.0/src/learner.cc:1095: Starting in XGBoost 1.3.0, the default evaluation metric used with the objective 'binary:logistic' was changed from 'error' to 'logloss'. Explicitly set eval_metric if you'd like to restore the old behavior.\n",
      "[16:49:28] WARNING: C:/Users/Administrator/workspace/xgboost-win64_release_1.4.0/src/learner.cc:1095: Starting in XGBoost 1.3.0, the default evaluation metric used with the objective 'binary:logistic' was changed from 'error' to 'logloss'. Explicitly set eval_metric if you'd like to restore the old behavior.\n",
      "[16:49:35] WARNING: C:/Users/Administrator/workspace/xgboost-win64_release_1.4.0/src/learner.cc:1095: Starting in XGBoost 1.3.0, the default evaluation metric used with the objective 'binary:logistic' was changed from 'error' to 'logloss'. Explicitly set eval_metric if you'd like to restore the old behavior.\n",
      "[16:49:43] WARNING: C:/Users/Administrator/workspace/xgboost-win64_release_1.4.0/src/learner.cc:1095: Starting in XGBoost 1.3.0, the default evaluation metric used with the objective 'binary:logistic' was changed from 'error' to 'logloss'. Explicitly set eval_metric if you'd like to restore the old behavior.\n",
      "[16:49:48] WARNING: C:/Users/Administrator/workspace/xgboost-win64_release_1.4.0/src/learner.cc:1095: Starting in XGBoost 1.3.0, the default evaluation metric used with the objective 'binary:logistic' was changed from 'error' to 'logloss'. Explicitly set eval_metric if you'd like to restore the old behavior.\n",
      "[16:49:54] WARNING: C:/Users/Administrator/workspace/xgboost-win64_release_1.4.0/src/learner.cc:1095: Starting in XGBoost 1.3.0, the default evaluation metric used with the objective 'binary:logistic' was changed from 'error' to 'logloss'. Explicitly set eval_metric if you'd like to restore the old behavior.\n",
      "[16:50:01] WARNING: C:/Users/Administrator/workspace/xgboost-win64_release_1.4.0/src/learner.cc:1095: Starting in XGBoost 1.3.0, the default evaluation metric used with the objective 'binary:logistic' was changed from 'error' to 'logloss'. Explicitly set eval_metric if you'd like to restore the old behavior.\n",
      "[16:50:07] WARNING: C:/Users/Administrator/workspace/xgboost-win64_release_1.4.0/src/learner.cc:1095: Starting in XGBoost 1.3.0, the default evaluation metric used with the objective 'binary:logistic' was changed from 'error' to 'logloss'. Explicitly set eval_metric if you'd like to restore the old behavior.\n",
      "[16:50:13] WARNING: C:/Users/Administrator/workspace/xgboost-win64_release_1.4.0/src/learner.cc:1095: Starting in XGBoost 1.3.0, the default evaluation metric used with the objective 'binary:logistic' was changed from 'error' to 'logloss'. Explicitly set eval_metric if you'd like to restore the old behavior.\n",
      "[16:50:20] WARNING: C:/Users/Administrator/workspace/xgboost-win64_release_1.4.0/src/learner.cc:1095: Starting in XGBoost 1.3.0, the default evaluation metric used with the objective 'binary:logistic' was changed from 'error' to 'logloss'. Explicitly set eval_metric if you'd like to restore the old behavior.\n",
      "[16:50:27] WARNING: C:/Users/Administrator/workspace/xgboost-win64_release_1.4.0/src/learner.cc:1095: Starting in XGBoost 1.3.0, the default evaluation metric used with the objective 'binary:logistic' was changed from 'error' to 'logloss'. Explicitly set eval_metric if you'd like to restore the old behavior.\n",
      "[16:50:34] WARNING: C:/Users/Administrator/workspace/xgboost-win64_release_1.4.0/src/learner.cc:1095: Starting in XGBoost 1.3.0, the default evaluation metric used with the objective 'binary:logistic' was changed from 'error' to 'logloss'. Explicitly set eval_metric if you'd like to restore the old behavior.\n",
      "[16:50:40] WARNING: C:/Users/Administrator/workspace/xgboost-win64_release_1.4.0/src/learner.cc:1095: Starting in XGBoost 1.3.0, the default evaluation metric used with the objective 'binary:logistic' was changed from 'error' to 'logloss'. Explicitly set eval_metric if you'd like to restore the old behavior.\n",
      "[16:50:47] WARNING: C:/Users/Administrator/workspace/xgboost-win64_release_1.4.0/src/learner.cc:1095: Starting in XGBoost 1.3.0, the default evaluation metric used with the objective 'binary:logistic' was changed from 'error' to 'logloss'. Explicitly set eval_metric if you'd like to restore the old behavior.\n",
      "[16:50:54] WARNING: C:/Users/Administrator/workspace/xgboost-win64_release_1.4.0/src/learner.cc:1095: Starting in XGBoost 1.3.0, the default evaluation metric used with the objective 'binary:logistic' was changed from 'error' to 'logloss'. Explicitly set eval_metric if you'd like to restore the old behavior.\n",
      "[16:51:00] WARNING: C:/Users/Administrator/workspace/xgboost-win64_release_1.4.0/src/learner.cc:1095: Starting in XGBoost 1.3.0, the default evaluation metric used with the objective 'binary:logistic' was changed from 'error' to 'logloss'. Explicitly set eval_metric if you'd like to restore the old behavior.\n",
      "[16:51:07] WARNING: C:/Users/Administrator/workspace/xgboost-win64_release_1.4.0/src/learner.cc:1095: Starting in XGBoost 1.3.0, the default evaluation metric used with the objective 'binary:logistic' was changed from 'error' to 'logloss'. Explicitly set eval_metric if you'd like to restore the old behavior.\n",
      "[16:51:13] WARNING: C:/Users/Administrator/workspace/xgboost-win64_release_1.4.0/src/learner.cc:1095: Starting in XGBoost 1.3.0, the default evaluation metric used with the objective 'binary:logistic' was changed from 'error' to 'logloss'. Explicitly set eval_metric if you'd like to restore the old behavior.\n",
      "[16:51:19] WARNING: C:/Users/Administrator/workspace/xgboost-win64_release_1.4.0/src/learner.cc:1095: Starting in XGBoost 1.3.0, the default evaluation metric used with the objective 'binary:logistic' was changed from 'error' to 'logloss'. Explicitly set eval_metric if you'd like to restore the old behavior.\n",
      "[16:51:27] WARNING: C:/Users/Administrator/workspace/xgboost-win64_release_1.4.0/src/learner.cc:1095: Starting in XGBoost 1.3.0, the default evaluation metric used with the objective 'binary:logistic' was changed from 'error' to 'logloss'. Explicitly set eval_metric if you'd like to restore the old behavior.\n",
      "[16:51:34] WARNING: C:/Users/Administrator/workspace/xgboost-win64_release_1.4.0/src/learner.cc:1095: Starting in XGBoost 1.3.0, the default evaluation metric used with the objective 'binary:logistic' was changed from 'error' to 'logloss'. Explicitly set eval_metric if you'd like to restore the old behavior.\n",
      "[16:51:40] WARNING: C:/Users/Administrator/workspace/xgboost-win64_release_1.4.0/src/learner.cc:1095: Starting in XGBoost 1.3.0, the default evaluation metric used with the objective 'binary:logistic' was changed from 'error' to 'logloss'. Explicitly set eval_metric if you'd like to restore the old behavior.\n",
      "[16:51:46] WARNING: C:/Users/Administrator/workspace/xgboost-win64_release_1.4.0/src/learner.cc:1095: Starting in XGBoost 1.3.0, the default evaluation metric used with the objective 'binary:logistic' was changed from 'error' to 'logloss'. Explicitly set eval_metric if you'd like to restore the old behavior.\n",
      "[16:51:53] WARNING: C:/Users/Administrator/workspace/xgboost-win64_release_1.4.0/src/learner.cc:1095: Starting in XGBoost 1.3.0, the default evaluation metric used with the objective 'binary:logistic' was changed from 'error' to 'logloss'. Explicitly set eval_metric if you'd like to restore the old behavior.\n",
      "[16:52:00] WARNING: C:/Users/Administrator/workspace/xgboost-win64_release_1.4.0/src/learner.cc:1095: Starting in XGBoost 1.3.0, the default evaluation metric used with the objective 'binary:logistic' was changed from 'error' to 'logloss'. Explicitly set eval_metric if you'd like to restore the old behavior.\n",
      "[16:52:08] WARNING: C:/Users/Administrator/workspace/xgboost-win64_release_1.4.0/src/learner.cc:1095: Starting in XGBoost 1.3.0, the default evaluation metric used with the objective 'binary:logistic' was changed from 'error' to 'logloss'. Explicitly set eval_metric if you'd like to restore the old behavior.\n",
      "[16:52:17] WARNING: C:/Users/Administrator/workspace/xgboost-win64_release_1.4.0/src/learner.cc:1095: Starting in XGBoost 1.3.0, the default evaluation metric used with the objective 'binary:logistic' was changed from 'error' to 'logloss'. Explicitly set eval_metric if you'd like to restore the old behavior.\n",
      "[16:52:24] WARNING: C:/Users/Administrator/workspace/xgboost-win64_release_1.4.0/src/learner.cc:1095: Starting in XGBoost 1.3.0, the default evaluation metric used with the objective 'binary:logistic' was changed from 'error' to 'logloss'. Explicitly set eval_metric if you'd like to restore the old behavior.\n",
      "[16:52:29] WARNING: C:/Users/Administrator/workspace/xgboost-win64_release_1.4.0/src/learner.cc:1095: Starting in XGBoost 1.3.0, the default evaluation metric used with the objective 'binary:logistic' was changed from 'error' to 'logloss'. Explicitly set eval_metric if you'd like to restore the old behavior.\n",
      "[16:52:35] WARNING: C:/Users/Administrator/workspace/xgboost-win64_release_1.4.0/src/learner.cc:1095: Starting in XGBoost 1.3.0, the default evaluation metric used with the objective 'binary:logistic' was changed from 'error' to 'logloss'. Explicitly set eval_metric if you'd like to restore the old behavior.\n",
      "[16:52:41] WARNING: C:/Users/Administrator/workspace/xgboost-win64_release_1.4.0/src/learner.cc:1095: Starting in XGBoost 1.3.0, the default evaluation metric used with the objective 'binary:logistic' was changed from 'error' to 'logloss'. Explicitly set eval_metric if you'd like to restore the old behavior.\n",
      "[16:52:48] WARNING: C:/Users/Administrator/workspace/xgboost-win64_release_1.4.0/src/learner.cc:1095: Starting in XGBoost 1.3.0, the default evaluation metric used with the objective 'binary:logistic' was changed from 'error' to 'logloss'. Explicitly set eval_metric if you'd like to restore the old behavior.\n",
      "[16:52:57] WARNING: C:/Users/Administrator/workspace/xgboost-win64_release_1.4.0/src/learner.cc:1095: Starting in XGBoost 1.3.0, the default evaluation metric used with the objective 'binary:logistic' was changed from 'error' to 'logloss'. Explicitly set eval_metric if you'd like to restore the old behavior.\n",
      "[16:53:05] WARNING: C:/Users/Administrator/workspace/xgboost-win64_release_1.4.0/src/learner.cc:1095: Starting in XGBoost 1.3.0, the default evaluation metric used with the objective 'binary:logistic' was changed from 'error' to 'logloss'. Explicitly set eval_metric if you'd like to restore the old behavior.\n",
      "[16:53:11] WARNING: C:/Users/Administrator/workspace/xgboost-win64_release_1.4.0/src/learner.cc:1095: Starting in XGBoost 1.3.0, the default evaluation metric used with the objective 'binary:logistic' was changed from 'error' to 'logloss'. Explicitly set eval_metric if you'd like to restore the old behavior.\n",
      "[16:53:18] WARNING: C:/Users/Administrator/workspace/xgboost-win64_release_1.4.0/src/learner.cc:1095: Starting in XGBoost 1.3.0, the default evaluation metric used with the objective 'binary:logistic' was changed from 'error' to 'logloss'. Explicitly set eval_metric if you'd like to restore the old behavior.\n",
      "[16:53:23] WARNING: C:/Users/Administrator/workspace/xgboost-win64_release_1.4.0/src/learner.cc:1095: Starting in XGBoost 1.3.0, the default evaluation metric used with the objective 'binary:logistic' was changed from 'error' to 'logloss'. Explicitly set eval_metric if you'd like to restore the old behavior.\n",
      "[16:53:30] WARNING: C:/Users/Administrator/workspace/xgboost-win64_release_1.4.0/src/learner.cc:1095: Starting in XGBoost 1.3.0, the default evaluation metric used with the objective 'binary:logistic' was changed from 'error' to 'logloss'. Explicitly set eval_metric if you'd like to restore the old behavior.\n",
      "[16:53:37] WARNING: C:/Users/Administrator/workspace/xgboost-win64_release_1.4.0/src/learner.cc:1095: Starting in XGBoost 1.3.0, the default evaluation metric used with the objective 'binary:logistic' was changed from 'error' to 'logloss'. Explicitly set eval_metric if you'd like to restore the old behavior.\n",
      "[16:53:44] WARNING: C:/Users/Administrator/workspace/xgboost-win64_release_1.4.0/src/learner.cc:1095: Starting in XGBoost 1.3.0, the default evaluation metric used with the objective 'binary:logistic' was changed from 'error' to 'logloss'. Explicitly set eval_metric if you'd like to restore the old behavior.\n",
      "[16:53:50] WARNING: C:/Users/Administrator/workspace/xgboost-win64_release_1.4.0/src/learner.cc:1095: Starting in XGBoost 1.3.0, the default evaluation metric used with the objective 'binary:logistic' was changed from 'error' to 'logloss'. Explicitly set eval_metric if you'd like to restore the old behavior.\n",
      "[16:53:56] WARNING: C:/Users/Administrator/workspace/xgboost-win64_release_1.4.0/src/learner.cc:1095: Starting in XGBoost 1.3.0, the default evaluation metric used with the objective 'binary:logistic' was changed from 'error' to 'logloss'. Explicitly set eval_metric if you'd like to restore the old behavior.\n",
      "[16:54:01] WARNING: C:/Users/Administrator/workspace/xgboost-win64_release_1.4.0/src/learner.cc:1095: Starting in XGBoost 1.3.0, the default evaluation metric used with the objective 'binary:logistic' was changed from 'error' to 'logloss'. Explicitly set eval_metric if you'd like to restore the old behavior.\n",
      "[16:54:08] WARNING: C:/Users/Administrator/workspace/xgboost-win64_release_1.4.0/src/learner.cc:1095: Starting in XGBoost 1.3.0, the default evaluation metric used with the objective 'binary:logistic' was changed from 'error' to 'logloss'. Explicitly set eval_metric if you'd like to restore the old behavior.\n",
      "[16:54:15] WARNING: C:/Users/Administrator/workspace/xgboost-win64_release_1.4.0/src/learner.cc:1095: Starting in XGBoost 1.3.0, the default evaluation metric used with the objective 'binary:logistic' was changed from 'error' to 'logloss'. Explicitly set eval_metric if you'd like to restore the old behavior.\n",
      "[16:54:22] WARNING: C:/Users/Administrator/workspace/xgboost-win64_release_1.4.0/src/learner.cc:1095: Starting in XGBoost 1.3.0, the default evaluation metric used with the objective 'binary:logistic' was changed from 'error' to 'logloss'. Explicitly set eval_metric if you'd like to restore the old behavior.\n",
      "[16:54:27] WARNING: C:/Users/Administrator/workspace/xgboost-win64_release_1.4.0/src/learner.cc:1095: Starting in XGBoost 1.3.0, the default evaluation metric used with the objective 'binary:logistic' was changed from 'error' to 'logloss'. Explicitly set eval_metric if you'd like to restore the old behavior.\n",
      "[16:54:33] WARNING: C:/Users/Administrator/workspace/xgboost-win64_release_1.4.0/src/learner.cc:1095: Starting in XGBoost 1.3.0, the default evaluation metric used with the objective 'binary:logistic' was changed from 'error' to 'logloss'. Explicitly set eval_metric if you'd like to restore the old behavior.\n",
      "[16:54:39] WARNING: C:/Users/Administrator/workspace/xgboost-win64_release_1.4.0/src/learner.cc:1095: Starting in XGBoost 1.3.0, the default evaluation metric used with the objective 'binary:logistic' was changed from 'error' to 'logloss'. Explicitly set eval_metric if you'd like to restore the old behavior.\n",
      "[16:54:48] WARNING: C:/Users/Administrator/workspace/xgboost-win64_release_1.4.0/src/learner.cc:1095: Starting in XGBoost 1.3.0, the default evaluation metric used with the objective 'binary:logistic' was changed from 'error' to 'logloss'. Explicitly set eval_metric if you'd like to restore the old behavior.\n",
      "[16:54:55] WARNING: C:/Users/Administrator/workspace/xgboost-win64_release_1.4.0/src/learner.cc:1095: Starting in XGBoost 1.3.0, the default evaluation metric used with the objective 'binary:logistic' was changed from 'error' to 'logloss'. Explicitly set eval_metric if you'd like to restore the old behavior.\n",
      "[16:55:02] WARNING: C:/Users/Administrator/workspace/xgboost-win64_release_1.4.0/src/learner.cc:1095: Starting in XGBoost 1.3.0, the default evaluation metric used with the objective 'binary:logistic' was changed from 'error' to 'logloss'. Explicitly set eval_metric if you'd like to restore the old behavior.\n",
      "[16:55:08] WARNING: C:/Users/Administrator/workspace/xgboost-win64_release_1.4.0/src/learner.cc:1095: Starting in XGBoost 1.3.0, the default evaluation metric used with the objective 'binary:logistic' was changed from 'error' to 'logloss'. Explicitly set eval_metric if you'd like to restore the old behavior.\n",
      "[16:55:14] WARNING: C:/Users/Administrator/workspace/xgboost-win64_release_1.4.0/src/learner.cc:1095: Starting in XGBoost 1.3.0, the default evaluation metric used with the objective 'binary:logistic' was changed from 'error' to 'logloss'. Explicitly set eval_metric if you'd like to restore the old behavior.\n",
      "[16:55:20] WARNING: C:/Users/Administrator/workspace/xgboost-win64_release_1.4.0/src/learner.cc:1095: Starting in XGBoost 1.3.0, the default evaluation metric used with the objective 'binary:logistic' was changed from 'error' to 'logloss'. Explicitly set eval_metric if you'd like to restore the old behavior.\n",
      "[16:55:26] WARNING: C:/Users/Administrator/workspace/xgboost-win64_release_1.4.0/src/learner.cc:1095: Starting in XGBoost 1.3.0, the default evaluation metric used with the objective 'binary:logistic' was changed from 'error' to 'logloss'. Explicitly set eval_metric if you'd like to restore the old behavior.\n",
      "[16:55:33] WARNING: C:/Users/Administrator/workspace/xgboost-win64_release_1.4.0/src/learner.cc:1095: Starting in XGBoost 1.3.0, the default evaluation metric used with the objective 'binary:logistic' was changed from 'error' to 'logloss'. Explicitly set eval_metric if you'd like to restore the old behavior.\n",
      "[16:55:41] WARNING: C:/Users/Administrator/workspace/xgboost-win64_release_1.4.0/src/learner.cc:1095: Starting in XGBoost 1.3.0, the default evaluation metric used with the objective 'binary:logistic' was changed from 'error' to 'logloss'. Explicitly set eval_metric if you'd like to restore the old behavior.\n",
      "[16:55:46] WARNING: C:/Users/Administrator/workspace/xgboost-win64_release_1.4.0/src/learner.cc:1095: Starting in XGBoost 1.3.0, the default evaluation metric used with the objective 'binary:logistic' was changed from 'error' to 'logloss'. Explicitly set eval_metric if you'd like to restore the old behavior.\n",
      "[16:55:52] WARNING: C:/Users/Administrator/workspace/xgboost-win64_release_1.4.0/src/learner.cc:1095: Starting in XGBoost 1.3.0, the default evaluation metric used with the objective 'binary:logistic' was changed from 'error' to 'logloss'. Explicitly set eval_metric if you'd like to restore the old behavior.\n",
      "[16:55:57] WARNING: C:/Users/Administrator/workspace/xgboost-win64_release_1.4.0/src/learner.cc:1095: Starting in XGBoost 1.3.0, the default evaluation metric used with the objective 'binary:logistic' was changed from 'error' to 'logloss'. Explicitly set eval_metric if you'd like to restore the old behavior.\n",
      "[16:56:06] WARNING: C:/Users/Administrator/workspace/xgboost-win64_release_1.4.0/src/learner.cc:1095: Starting in XGBoost 1.3.0, the default evaluation metric used with the objective 'binary:logistic' was changed from 'error' to 'logloss'. Explicitly set eval_metric if you'd like to restore the old behavior.\n",
      "[16:56:14] WARNING: C:/Users/Administrator/workspace/xgboost-win64_release_1.4.0/src/learner.cc:1095: Starting in XGBoost 1.3.0, the default evaluation metric used with the objective 'binary:logistic' was changed from 'error' to 'logloss'. Explicitly set eval_metric if you'd like to restore the old behavior.\n",
      "[16:56:23] WARNING: C:/Users/Administrator/workspace/xgboost-win64_release_1.4.0/src/learner.cc:1095: Starting in XGBoost 1.3.0, the default evaluation metric used with the objective 'binary:logistic' was changed from 'error' to 'logloss'. Explicitly set eval_metric if you'd like to restore the old behavior.\n",
      "[16:56:29] WARNING: C:/Users/Administrator/workspace/xgboost-win64_release_1.4.0/src/learner.cc:1095: Starting in XGBoost 1.3.0, the default evaluation metric used with the objective 'binary:logistic' was changed from 'error' to 'logloss'. Explicitly set eval_metric if you'd like to restore the old behavior.\n",
      "[16:56:34] WARNING: C:/Users/Administrator/workspace/xgboost-win64_release_1.4.0/src/learner.cc:1095: Starting in XGBoost 1.3.0, the default evaluation metric used with the objective 'binary:logistic' was changed from 'error' to 'logloss'. Explicitly set eval_metric if you'd like to restore the old behavior.\n",
      "[16:56:41] WARNING: C:/Users/Administrator/workspace/xgboost-win64_release_1.4.0/src/learner.cc:1095: Starting in XGBoost 1.3.0, the default evaluation metric used with the objective 'binary:logistic' was changed from 'error' to 'logloss'. Explicitly set eval_metric if you'd like to restore the old behavior.\n",
      "[16:56:50] WARNING: C:/Users/Administrator/workspace/xgboost-win64_release_1.4.0/src/learner.cc:1095: Starting in XGBoost 1.3.0, the default evaluation metric used with the objective 'binary:logistic' was changed from 'error' to 'logloss'. Explicitly set eval_metric if you'd like to restore the old behavior.\n",
      "[16:56:57] WARNING: C:/Users/Administrator/workspace/xgboost-win64_release_1.4.0/src/learner.cc:1095: Starting in XGBoost 1.3.0, the default evaluation metric used with the objective 'binary:logistic' was changed from 'error' to 'logloss'. Explicitly set eval_metric if you'd like to restore the old behavior.\n",
      "[16:57:05] WARNING: C:/Users/Administrator/workspace/xgboost-win64_release_1.4.0/src/learner.cc:1095: Starting in XGBoost 1.3.0, the default evaluation metric used with the objective 'binary:logistic' was changed from 'error' to 'logloss'. Explicitly set eval_metric if you'd like to restore the old behavior.\n",
      "[16:57:15] WARNING: C:/Users/Administrator/workspace/xgboost-win64_release_1.4.0/src/learner.cc:1095: Starting in XGBoost 1.3.0, the default evaluation metric used with the objective 'binary:logistic' was changed from 'error' to 'logloss'. Explicitly set eval_metric if you'd like to restore the old behavior.\n",
      "[16:57:22] WARNING: C:/Users/Administrator/workspace/xgboost-win64_release_1.4.0/src/learner.cc:1095: Starting in XGBoost 1.3.0, the default evaluation metric used with the objective 'binary:logistic' was changed from 'error' to 'logloss'. Explicitly set eval_metric if you'd like to restore the old behavior.\n",
      "[16:57:31] WARNING: C:/Users/Administrator/workspace/xgboost-win64_release_1.4.0/src/learner.cc:1095: Starting in XGBoost 1.3.0, the default evaluation metric used with the objective 'binary:logistic' was changed from 'error' to 'logloss'. Explicitly set eval_metric if you'd like to restore the old behavior.\n",
      "[16:57:42] WARNING: C:/Users/Administrator/workspace/xgboost-win64_release_1.4.0/src/learner.cc:1095: Starting in XGBoost 1.3.0, the default evaluation metric used with the objective 'binary:logistic' was changed from 'error' to 'logloss'. Explicitly set eval_metric if you'd like to restore the old behavior.\n",
      "[16:57:49] WARNING: C:/Users/Administrator/workspace/xgboost-win64_release_1.4.0/src/learner.cc:1095: Starting in XGBoost 1.3.0, the default evaluation metric used with the objective 'binary:logistic' was changed from 'error' to 'logloss'. Explicitly set eval_metric if you'd like to restore the old behavior.\n",
      "[16:57:55] WARNING: C:/Users/Administrator/workspace/xgboost-win64_release_1.4.0/src/learner.cc:1095: Starting in XGBoost 1.3.0, the default evaluation metric used with the objective 'binary:logistic' was changed from 'error' to 'logloss'. Explicitly set eval_metric if you'd like to restore the old behavior.\n",
      "[16:58:02] WARNING: C:/Users/Administrator/workspace/xgboost-win64_release_1.4.0/src/learner.cc:1095: Starting in XGBoost 1.3.0, the default evaluation metric used with the objective 'binary:logistic' was changed from 'error' to 'logloss'. Explicitly set eval_metric if you'd like to restore the old behavior.\n",
      "[16:58:08] WARNING: C:/Users/Administrator/workspace/xgboost-win64_release_1.4.0/src/learner.cc:1095: Starting in XGBoost 1.3.0, the default evaluation metric used with the objective 'binary:logistic' was changed from 'error' to 'logloss'. Explicitly set eval_metric if you'd like to restore the old behavior.\n",
      "[16:58:14] WARNING: C:/Users/Administrator/workspace/xgboost-win64_release_1.4.0/src/learner.cc:1095: Starting in XGBoost 1.3.0, the default evaluation metric used with the objective 'binary:logistic' was changed from 'error' to 'logloss'. Explicitly set eval_metric if you'd like to restore the old behavior.\n",
      "[16:58:21] WARNING: C:/Users/Administrator/workspace/xgboost-win64_release_1.4.0/src/learner.cc:1095: Starting in XGBoost 1.3.0, the default evaluation metric used with the objective 'binary:logistic' was changed from 'error' to 'logloss'. Explicitly set eval_metric if you'd like to restore the old behavior.\n",
      "[16:58:29] WARNING: C:/Users/Administrator/workspace/xgboost-win64_release_1.4.0/src/learner.cc:1095: Starting in XGBoost 1.3.0, the default evaluation metric used with the objective 'binary:logistic' was changed from 'error' to 'logloss'. Explicitly set eval_metric if you'd like to restore the old behavior.\n",
      "[16:58:38] WARNING: C:/Users/Administrator/workspace/xgboost-win64_release_1.4.0/src/learner.cc:1095: Starting in XGBoost 1.3.0, the default evaluation metric used with the objective 'binary:logistic' was changed from 'error' to 'logloss'. Explicitly set eval_metric if you'd like to restore the old behavior.\n",
      "[16:58:46] WARNING: C:/Users/Administrator/workspace/xgboost-win64_release_1.4.0/src/learner.cc:1095: Starting in XGBoost 1.3.0, the default evaluation metric used with the objective 'binary:logistic' was changed from 'error' to 'logloss'. Explicitly set eval_metric if you'd like to restore the old behavior.\n",
      "[16:58:55] WARNING: C:/Users/Administrator/workspace/xgboost-win64_release_1.4.0/src/learner.cc:1095: Starting in XGBoost 1.3.0, the default evaluation metric used with the objective 'binary:logistic' was changed from 'error' to 'logloss'. Explicitly set eval_metric if you'd like to restore the old behavior.\n",
      "[16:59:02] WARNING: C:/Users/Administrator/workspace/xgboost-win64_release_1.4.0/src/learner.cc:1095: Starting in XGBoost 1.3.0, the default evaluation metric used with the objective 'binary:logistic' was changed from 'error' to 'logloss'. Explicitly set eval_metric if you'd like to restore the old behavior.\n",
      "[16:59:11] WARNING: C:/Users/Administrator/workspace/xgboost-win64_release_1.4.0/src/learner.cc:1095: Starting in XGBoost 1.3.0, the default evaluation metric used with the objective 'binary:logistic' was changed from 'error' to 'logloss'. Explicitly set eval_metric if you'd like to restore the old behavior.\n",
      "[16:59:19] WARNING: C:/Users/Administrator/workspace/xgboost-win64_release_1.4.0/src/learner.cc:1095: Starting in XGBoost 1.3.0, the default evaluation metric used with the objective 'binary:logistic' was changed from 'error' to 'logloss'. Explicitly set eval_metric if you'd like to restore the old behavior.\n",
      "[16:59:27] WARNING: C:/Users/Administrator/workspace/xgboost-win64_release_1.4.0/src/learner.cc:1095: Starting in XGBoost 1.3.0, the default evaluation metric used with the objective 'binary:logistic' was changed from 'error' to 'logloss'. Explicitly set eval_metric if you'd like to restore the old behavior.\n",
      "[16:59:34] WARNING: C:/Users/Administrator/workspace/xgboost-win64_release_1.4.0/src/learner.cc:1095: Starting in XGBoost 1.3.0, the default evaluation metric used with the objective 'binary:logistic' was changed from 'error' to 'logloss'. Explicitly set eval_metric if you'd like to restore the old behavior.\n",
      "[16:59:41] WARNING: C:/Users/Administrator/workspace/xgboost-win64_release_1.4.0/src/learner.cc:1095: Starting in XGBoost 1.3.0, the default evaluation metric used with the objective 'binary:logistic' was changed from 'error' to 'logloss'. Explicitly set eval_metric if you'd like to restore the old behavior.\n",
      "[16:59:49] WARNING: C:/Users/Administrator/workspace/xgboost-win64_release_1.4.0/src/learner.cc:1095: Starting in XGBoost 1.3.0, the default evaluation metric used with the objective 'binary:logistic' was changed from 'error' to 'logloss'. Explicitly set eval_metric if you'd like to restore the old behavior.\n",
      "[16:59:57] WARNING: C:/Users/Administrator/workspace/xgboost-win64_release_1.4.0/src/learner.cc:1095: Starting in XGBoost 1.3.0, the default evaluation metric used with the objective 'binary:logistic' was changed from 'error' to 'logloss'. Explicitly set eval_metric if you'd like to restore the old behavior.\n",
      "[17:00:07] WARNING: C:/Users/Administrator/workspace/xgboost-win64_release_1.4.0/src/learner.cc:1095: Starting in XGBoost 1.3.0, the default evaluation metric used with the objective 'binary:logistic' was changed from 'error' to 'logloss'. Explicitly set eval_metric if you'd like to restore the old behavior.\n",
      "[17:00:23] WARNING: C:/Users/Administrator/workspace/xgboost-win64_release_1.4.0/src/learner.cc:1095: Starting in XGBoost 1.3.0, the default evaluation metric used with the objective 'binary:logistic' was changed from 'error' to 'logloss'. Explicitly set eval_metric if you'd like to restore the old behavior.\n"
     ]
    },
    {
     "data": {
      "text/plain": [
       "GridSearchCV(cv=3,\n",
       "             estimator=XGBClassifier(base_score=None, booster=None,\n",
       "                                     colsample_bylevel=None,\n",
       "                                     colsample_bynode=None,\n",
       "                                     colsample_bytree=None, gamma=None,\n",
       "                                     gpu_id=None, importance_type='gain',\n",
       "                                     interaction_constraints=None,\n",
       "                                     learning_rate=None, max_delta_step=None,\n",
       "                                     max_depth=None, min_child_weight=None,\n",
       "                                     missing=nan, monotone_constraints=None,\n",
       "                                     n_estimators=100, n_jobs...\n",
       "       1.05306122, 1.08571429, 1.11836735, 1.15102041, 1.18367347,\n",
       "       1.21632653, 1.24897959, 1.28163265, 1.31428571, 1.34693878,\n",
       "       1.37959184, 1.4122449 , 1.44489796, 1.47755102, 1.51020408,\n",
       "       1.54285714, 1.5755102 , 1.60816327, 1.64081633, 1.67346939,\n",
       "       1.70612245, 1.73877551, 1.77142857, 1.80408163, 1.83673469,\n",
       "       1.86938776, 1.90204082, 1.93469388, 1.96734694, 2.        ]),\n",
       "                         'max_depth': [20, 25], 'n_estimators': [200]})"
      ]
     },
     "execution_count": 110,
     "metadata": {},
     "output_type": "execute_result"
    }
   ],
   "source": [
    "CV_XGB.fit(X = X_train, y=y_train)"
   ]
  },
  {
   "cell_type": "code",
   "execution_count": 111,
   "metadata": {},
   "outputs": [
    {
     "name": "stdout",
     "output_type": "stream",
     "text": [
      "0.8922423603677725 {'colsample_bytree': 0.5306122448979592, 'max_depth': 20, 'n_estimators': 200}\n"
     ]
    }
   ],
   "source": [
    "# Find best model\n",
    "best_xgb_model = CV_XGB.best_estimator_\n",
    "print (CV_XGB.best_score_, CV_XGB.best_params_)"
   ]
  },
  {
   "cell_type": "code",
   "execution_count": 112,
   "metadata": {},
   "outputs": [
    {
     "data": {
      "text/plain": [
       "XGBClassifier(base_score=0.5, booster='gbtree', colsample_bylevel=1,\n",
       "              colsample_bynode=1, colsample_bytree=0.5306122448979592, gamma=0,\n",
       "              gpu_id=-1, importance_type='gain', interaction_constraints='',\n",
       "              learning_rate=0.300000012, max_delta_step=0, max_depth=20,\n",
       "              min_child_weight=1, missing=nan, monotone_constraints='()',\n",
       "              n_estimators=200, n_jobs=-1, num_parallel_tree=1, random_state=0,\n",
       "              reg_alpha=0, reg_lambda=1, scale_pos_weight=1, subsample=1,\n",
       "              tree_method='exact', validate_parameters=1, verbosity=None)"
      ]
     },
     "execution_count": 112,
     "metadata": {},
     "output_type": "execute_result"
    }
   ],
   "source": [
    "best_xgb_model"
   ]
  },
  {
   "cell_type": "code",
   "execution_count": 113,
   "metadata": {},
   "outputs": [],
   "source": [
    "y_pred_train=best_xgb_model.predict(X_train)\n",
    "y_pred_test=best_xgb_model.predict(X_test)"
   ]
  },
  {
   "cell_type": "code",
   "execution_count": 114,
   "metadata": {},
   "outputs": [
    {
     "name": "stdout",
     "output_type": "stream",
     "text": [
      "Train accuracy: 0.9802573994229584\n",
      "Test accuracy: 0.8930489372967249\n"
     ]
    }
   ],
   "source": [
    "print(\"Train accuracy:\",accuracy_score(y_train,y_pred_train))\n",
    "print(\"Test accuracy:\",accuracy_score(y_test,y_pred_test))"
   ]
  },
  {
   "cell_type": "code",
   "execution_count": 116,
   "metadata": {},
   "outputs": [],
   "source": [
    "submission = pd.read_csv('samplesubmission_updated-1617172344901.csv')\n",
    "final_predictions = best_xgb_model.predict(test)\n",
    "submission['Status'] = final_predictions\n",
    "submission.to_csv('Vineel_Vadduri_B94_MiTH.csv', index=False)"
   ]
  },
  {
   "cell_type": "code",
   "execution_count": null,
   "metadata": {},
   "outputs": [],
   "source": []
  },
  {
   "cell_type": "code",
   "execution_count": null,
   "metadata": {},
   "outputs": [],
   "source": []
  },
  {
   "cell_type": "markdown",
   "metadata": {},
   "source": [
    "### 3. RandomForest"
   ]
  },
  {
   "cell_type": "code",
   "execution_count": 83,
   "metadata": {},
   "outputs": [
    {
     "data": {
      "text/plain": [
       "RandomForestClassifier(criterion='entropy', n_estimators=200)"
      ]
     },
     "execution_count": 83,
     "metadata": {},
     "output_type": "execute_result"
    }
   ],
   "source": [
    "from sklearn.ensemble import RandomForestClassifier  \n",
    "classifier= RandomForestClassifier(n_estimators= 200, criterion=\"entropy\")  \n",
    "classifier.fit(X_train, y_train)"
   ]
  },
  {
   "cell_type": "code",
   "execution_count": 84,
   "metadata": {},
   "outputs": [],
   "source": [
    "y_train_pred_RF = classifier.predict(X_train)\n",
    "y_test_pred_RF = classifier.predict(X_test)"
   ]
  },
  {
   "cell_type": "code",
   "execution_count": 85,
   "metadata": {},
   "outputs": [
    {
     "name": "stdout",
     "output_type": "stream",
     "text": [
      "0.9807436703731319\n",
      "0.8944860449285228\n"
     ]
    }
   ],
   "source": [
    "print(accuracy_score(y_true = y_train, y_pred = y_train_pred_RF))\n",
    "print(accuracy_score(y_true = y_test, y_pred = y_test_pred_RF))"
   ]
  },
  {
   "cell_type": "markdown",
   "metadata": {},
   "source": [
    "##### GridSearchCV"
   ]
  },
  {
   "cell_type": "code",
   "execution_count": 86,
   "metadata": {},
   "outputs": [],
   "source": [
    "from sklearn.model_selection import GridSearchCV"
   ]
  },
  {
   "cell_type": "code",
   "execution_count": 96,
   "metadata": {},
   "outputs": [],
   "source": [
    "## Use Grid Search for parameter tuning. (Exhaustive search over specified parameter values for an estimator)\n",
    "\n",
    "## n_jobs = -1 uses all cores of processor\n",
    "## max_features is the maximum number of attributes to select for each tree\n",
    "\n",
    "rfc_grid = RandomForestClassifier(n_jobs=-1,max_features='sqrt')\n",
    " \n",
    "# Use a grid over parameters of interest\n",
    "\n",
    "param_grid = { \n",
    "           \"n_estimators\" : [200,300]\n",
    "#            \"max_depth\" : [5, 10],\n",
    "#            \"min_samples_leaf\" : [2, 4]\n",
    "            }\n",
    " \n",
    "rfc_cv_grid = GridSearchCV(estimator = rfc_grid, param_grid = param_grid, cv = 3)"
   ]
  },
  {
   "cell_type": "code",
   "execution_count": 97,
   "metadata": {},
   "outputs": [
    {
     "data": {
      "text/plain": [
       "GridSearchCV(cv=3,\n",
       "             estimator=RandomForestClassifier(max_features='sqrt', n_jobs=-1),\n",
       "             param_grid={'n_estimators': [200, 300]})"
      ]
     },
     "execution_count": 97,
     "metadata": {},
     "output_type": "execute_result"
    }
   ],
   "source": [
    "## Fit the grid search model\n",
    "rfc_cv_grid.fit(X = X_train, y = y_train)"
   ]
  },
  {
   "cell_type": "code",
   "execution_count": 98,
   "metadata": {},
   "outputs": [
    {
     "name": "stdout",
     "output_type": "stream",
     "text": [
      "0.8944144063469356 {'n_estimators': 300}\n"
     ]
    }
   ],
   "source": [
    "## Print best score and parameters\n",
    "print(rfc_cv_grid.best_score_,rfc_cv_grid.best_params_)"
   ]
  },
  {
   "cell_type": "code",
   "execution_count": 99,
   "metadata": {},
   "outputs": [],
   "source": [
    "y_pred_train = rfc_cv_grid.predict(X_train)\n",
    "y_pred_test = rfc_cv_grid.predict(X_test)"
   ]
  },
  {
   "cell_type": "code",
   "execution_count": 100,
   "metadata": {},
   "outputs": [
    {
     "name": "stdout",
     "output_type": "stream",
     "text": [
      "Train Accuracy: 0.9807436703731319\n",
      "Test Accuracy: 0.8958475153165418\n"
     ]
    }
   ],
   "source": [
    "print(\"Train Accuracy:\",accuracy_score(y_train,y_pred_train))\n",
    "print(\"Test Accuracy:\",accuracy_score(y_test,y_pred_test))"
   ]
  },
  {
   "cell_type": "code",
   "execution_count": null,
   "metadata": {},
   "outputs": [],
   "source": []
  },
  {
   "cell_type": "code",
   "execution_count": 102,
   "metadata": {},
   "outputs": [],
   "source": [
    "submission = pd.read_csv('samplesubmission_updated-1617172344901.csv')\n",
    "final_predictions = rfc_cv_grid.predict(test)\n",
    "submission['Status'] = final_predictions\n",
    "submission.to_csv('Vineel_Vadduri_B94_MiTH.csv', index=False)"
   ]
  },
  {
   "cell_type": "code",
   "execution_count": null,
   "metadata": {},
   "outputs": [],
   "source": []
  },
  {
   "cell_type": "code",
   "execution_count": null,
   "metadata": {},
   "outputs": [],
   "source": []
  },
  {
   "cell_type": "code",
   "execution_count": null,
   "metadata": {},
   "outputs": [],
   "source": []
  },
  {
   "cell_type": "code",
   "execution_count": null,
   "metadata": {},
   "outputs": [],
   "source": []
  },
  {
   "cell_type": "code",
   "execution_count": null,
   "metadata": {},
   "outputs": [],
   "source": []
  },
  {
   "cell_type": "code",
   "execution_count": null,
   "metadata": {},
   "outputs": [],
   "source": []
  },
  {
   "cell_type": "code",
   "execution_count": null,
   "metadata": {},
   "outputs": [],
   "source": []
  },
  {
   "cell_type": "code",
   "execution_count": null,
   "metadata": {},
   "outputs": [],
   "source": []
  },
  {
   "cell_type": "code",
   "execution_count": null,
   "metadata": {},
   "outputs": [],
   "source": []
  },
  {
   "cell_type": "code",
   "execution_count": null,
   "metadata": {},
   "outputs": [],
   "source": []
  },
  {
   "cell_type": "code",
   "execution_count": null,
   "metadata": {},
   "outputs": [],
   "source": []
  },
  {
   "cell_type": "code",
   "execution_count": null,
   "metadata": {},
   "outputs": [],
   "source": []
  },
  {
   "cell_type": "code",
   "execution_count": null,
   "metadata": {},
   "outputs": [],
   "source": []
  },
  {
   "cell_type": "code",
   "execution_count": null,
   "metadata": {},
   "outputs": [],
   "source": []
  },
  {
   "cell_type": "code",
   "execution_count": null,
   "metadata": {},
   "outputs": [],
   "source": []
  },
  {
   "cell_type": "code",
   "execution_count": null,
   "metadata": {},
   "outputs": [],
   "source": []
  },
  {
   "cell_type": "code",
   "execution_count": null,
   "metadata": {},
   "outputs": [],
   "source": []
  },
  {
   "cell_type": "code",
   "execution_count": null,
   "metadata": {},
   "outputs": [],
   "source": []
  },
  {
   "cell_type": "code",
   "execution_count": null,
   "metadata": {},
   "outputs": [],
   "source": []
  },
  {
   "cell_type": "code",
   "execution_count": null,
   "metadata": {},
   "outputs": [],
   "source": []
  },
  {
   "cell_type": "code",
   "execution_count": null,
   "metadata": {},
   "outputs": [],
   "source": []
  },
  {
   "cell_type": "code",
   "execution_count": null,
   "metadata": {},
   "outputs": [],
   "source": []
  },
  {
   "cell_type": "code",
   "execution_count": null,
   "metadata": {},
   "outputs": [],
   "source": []
  }
 ],
 "metadata": {
  "kernelspec": {
   "display_name": "Python 3 (ipykernel)",
   "language": "python",
   "name": "python3"
  },
  "language_info": {
   "codemirror_mode": {
    "name": "ipython",
    "version": 3
   },
   "file_extension": ".py",
   "mimetype": "text/x-python",
   "name": "python",
   "nbconvert_exporter": "python",
   "pygments_lexer": "ipython3",
   "version": "3.8.8"
  }
 },
 "nbformat": 4,
 "nbformat_minor": 4
}
